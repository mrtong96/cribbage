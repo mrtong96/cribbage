{
 "cells": [
  {
   "cell_type": "code",
   "execution_count": 1,
   "id": "e4587141-b2d6-4094-a256-e5d333a02a84",
   "metadata": {},
   "outputs": [],
   "source": [
    "# write a better one"
   ]
  },
  {
   "cell_type": "code",
   "execution_count": 2,
   "id": "d87b51db-dfe8-4ba6-a68e-4eeda0bc9d39",
   "metadata": {},
   "outputs": [],
   "source": [
    "%load_ext autoreload\n",
    "%autoreload 2"
   ]
  },
  {
   "cell_type": "code",
   "execution_count": 3,
   "id": "1c05cb0d-ca45-433c-b8f3-fb252ad47cd2",
   "metadata": {},
   "outputs": [
    {
     "name": "stderr",
     "output_type": "stream",
     "text": [
      "/usr/local/lib/python3.10/site-packages/numba/typed/typeddict.py:34: NumbaTypeSafetyWarning: unsafe cast from int64 to int32. Precision may be lost.\n",
      "  d[key] = value\n"
     ]
    }
   ],
   "source": [
    "import itertools\n",
    "import numpy as np\n",
    "import card\n",
    "import scoring\n",
    "import hand_utils\n",
    "\n",
    "from scoring import compute_value\n",
    "from card import get_card\n",
    "from collections import Counter\n",
    "from collections import defaultdict\n",
    "import functools\n",
    "import time\n",
    "from numba import jit\n",
    "\n",
    "from numba.typed import Dict\n",
    "from numba import types\n",
    "\n",
    "from dataclasses import dataclass\n",
    "from scipy import sparse"
   ]
  },
  {
   "cell_type": "code",
   "execution_count": 4,
   "id": "0233e4a9-a154-4c7d-a057-3b17f8b558eb",
   "metadata": {},
   "outputs": [],
   "source": [
    "STARTER_CARDS = 6\n"
   ]
  },
  {
   "cell_type": "code",
   "execution_count": 5,
   "id": "8691d74d-1e74-460d-85e0-ac042003d6ec",
   "metadata": {},
   "outputs": [
    {
     "name": "stdout",
     "output_type": "stream",
     "text": [
      "18395\n"
     ]
    }
   ],
   "source": [
    "rank_array_values = hand_utils.compute_rank_array_values(STARTER_CARDS)\n",
    "print(len(rank_array_values))\n",
    "\n",
    "# store a few dictionaries like \n",
    "# (4, 2) -> all of the possible suits where there's a 4 of a kind and a 2 of a kind suits\n",
    "# because of suit reductions there's only one possible combination (all 4 suits, any 2)\n",
    "# more complicated for (1, 1, 1, 1, 1, 1) because some suits can match and others don't have to\n",
    "suit_count_to_truncated_suit_vectors = hand_utils.compute_suit_count_to_truncated_suit_vectors(rank_array_values)\n"
   ]
  },
  {
   "cell_type": "code",
   "execution_count": 6,
   "id": "3857dc4b-457b-4684-b9fb-9b72bec442eb",
   "metadata": {},
   "outputs": [],
   "source": [
    "num_starter_cards = 6\n",
    "discard_index_arrays = []\n",
    "hand_index_arrays = []\n",
    "for index_1 in range(num_starter_cards):\n",
    "    for index_2 in range(index_1 + 1, num_starter_cards):\n",
    "        hand_indexes = np.array([el for el in range(num_starter_cards) if el not in [index_1, index_2]])\n",
    "        hand_index_arrays.append(hand_indexes)\n",
    "        discard_indexes = np.array([index_1, index_2])\n",
    "        discard_index_arrays.append(discard_indexes)\n",
    "discard_index_arrays = np.vstack(discard_index_arrays)\n",
    "hand_index_arrays = np.vstack(hand_index_arrays)\n",
    "\n",
    "@dataclass\n",
    "class RankInformation:\n",
    "    num_starter_cards = num_starter_cards\n",
    "    discard_index_arrays = discard_index_arrays\n",
    "    hand_index_arrays = hand_index_arrays\n",
    "    \n",
    "    rank_array: np.array\n",
    "    suit_matrix: np.array\n",
    "    suit_weights: np.array\n",
    "    weight: float\n",
    "    rank_counts: list[int]\n",
    "\n",
    "    host_expected_hand: float\n",
    "    host_expected_crib: float\n",
    "    host_expected_peg: float\n",
    "    host_expected_discard_dict: dict[int, float]\n",
    "\n",
    "    non_host_expected_hand: float\n",
    "    non_host_expected_crib: float\n",
    "    non_host_expected_peg: float\n",
    "    non_host_expected_discard_dict: dict[int, float]\n",
    "    \n",
    "    def __init__(self, rank_array):\n",
    "        self.rank_array = np.array(rank_array, dtype=np.int8)\n",
    "        self.rank_counts = tuple(item[1] for item in sorted(Counter(rank_array).items(), key=lambda x: x[0]))\n",
    "        self.suit_matrix, self.suit_weights = suit_count_to_truncated_suit_vectors[self.rank_counts]\n",
    "        self.weight = np.sum(self.suit_weights)\n",
    "\n",
    "        self.host_expected_hand = None\n",
    "        self.host_expected_crib = None\n",
    "        self.host_expected_peg = None\n",
    "        self.host_expected_discard_dict = None\n",
    "\n",
    "        self.non_host_expected_hand = None\n",
    "        self.non_host_expected_crib = None\n",
    "        self.non_host_expected_peg = None\n",
    "        self.non_host_expected_discard_dict = None\n",
    "\n",
    "    # write the jit function as a static function that is called by a class method\n",
    "    # because jit can't process class variables\n",
    "    @staticmethod\n",
    "    @jit(nopython=True)\n",
    "    def compute_optimal_discard_hand_jit(suit_matrix, rank_vector, weight_vector, hand_index_arrays, discard_index_arrays):\n",
    "        card_matrix = suit_matrix << 4\n",
    "        for i, card_rank in enumerate(rank_vector):\n",
    "            card_matrix[:, i] |= card_rank\n",
    "    \n",
    "        optimal_discard_cards = Dict.empty(\n",
    "            key_type=types.int32,\n",
    "            value_type=types.float64,\n",
    "        )\n",
    "    \n",
    "        expected_score_weight = 0.0\n",
    "        for row, card_combo in enumerate(card_matrix):\n",
    "            # compute the expected scores for a card combo\n",
    "            col_index = 0\n",
    "            expected_scores = np.zeros(len(hand_index_arrays), dtype=np.float32)\n",
    "            for i, hand_indexes in enumerate(hand_index_arrays):\n",
    "                expected_scores[i] = scoring.compute_expected_value(card_combo[hand_indexes], False, card_combo)\n",
    "\n",
    "            # sort the expected scores\n",
    "            sorted_scores = np.argsort(expected_scores)\n",
    "            sorted_expected_scores = expected_scores.copy()\n",
    "            hand_utils.inplace_sort(sorted_expected_scores)\n",
    "\n",
    "            # find the max expected scores\n",
    "            num_max_scores = sorted_expected_scores.shape[0] - np.searchsorted(sorted_expected_scores, np.max(sorted_expected_scores))\n",
    "            max_score_indexes = np.argsort(expected_scores)[-num_max_scores:]\n",
    "            max_expected_score = sorted_expected_scores[-1]\n",
    "\n",
    "            expected_score_weight += weight_vector[row] * max_expected_score\n",
    "            card_combo_weight = weight_vector[row] / num_max_scores\n",
    "            for max_score_index in max_score_indexes:\n",
    "                discard_cards = card_combo[discard_index_arrays[max_score_index]]\n",
    "                discard_int = hand_utils.get_discard_int(discard_cards[0], discard_cards[1])\n",
    "\n",
    "                if discard_int not in optimal_discard_cards:\n",
    "                    optimal_discard_cards[discard_int] = 0.0\n",
    "                optimal_discard_cards[discard_int] += card_combo_weight\n",
    "    \n",
    "        # expected score is the average weight divided by the number of cards (52 - 6 = 46)\n",
    "        expected_score_weight /= np.sum(weight_vector) * (52 - card_matrix.shape[1])\n",
    "        for discard_int in optimal_discard_cards:\n",
    "            optimal_discard_cards[discard_int] /= np.sum(weight_vector)\n",
    "    \n",
    "        return expected_score_weight, optimal_discard_cards\n",
    "\n",
    "    def compute_optimal_discard_hand(self):\n",
    "        expected_scores, expected_discards = RankInformation.compute_optimal_discard_hand_jit(\n",
    "            self.suit_matrix,\n",
    "            self.rank_array,\n",
    "            self.suit_weights,\n",
    "            RankInformation.hand_index_arrays,\n",
    "            RankInformation.discard_index_arrays,\n",
    "        )\n",
    "\n",
    "        self.host_expected_hand = expected_scores\n",
    "        self.host_expected_discard_dict = expected_discards\n",
    "\n",
    "        self.non_host_expected_hand = expected_scores\n",
    "        self.non_host_expected_discard_dict = expected_discards\n",
    "\n",
    "        return expected_scores, expected_discards"
   ]
  },
  {
   "cell_type": "code",
   "execution_count": 7,
   "id": "07d3d1e8-e86c-489d-abc4-d3d9f2b2d14a",
   "metadata": {},
   "outputs": [],
   "source": [
    "rank_information_array = [RankInformation(el) for el in rank_array_values]"
   ]
  },
  {
   "cell_type": "code",
   "execution_count": 8,
   "id": "f5f6be42-0770-4d18-9a5f-fad42a83be98",
   "metadata": {},
   "outputs": [
    {
     "name": "stdout",
     "output_type": "stream",
     "text": [
      "CPU times: user 2min 9s, sys: 470 ms, total: 2min 10s\n",
      "Wall time: 2min 12s\n"
     ]
    }
   ],
   "source": [
    "%%time\n",
    "_ = [rank_info.compute_optimal_discard_hand() for rank_info in rank_information_array]"
   ]
  },
  {
   "cell_type": "code",
   "execution_count": 9,
   "id": "e6c047bc-bb93-49a1-a2c8-f8589a47258a",
   "metadata": {},
   "outputs": [
    {
     "data": {
      "text/plain": [
       "RankInformation(rank_array=array([0, 0, 0, 0, 1, 1], dtype=int8), suit_matrix=array([[0, 1, 2, 3, 0, 1]], dtype=int8), suit_weights=array([6]), weight=6, rank_counts=(4, 2), host_expected_hand=12.0, host_expected_crib=None, host_expected_peg=None, host_expected_discard_dict=DictType[int32,float64]<iv=None>({17: 1.0}), non_host_expected_hand=12.0, non_host_expected_crib=None, non_host_expected_peg=None, non_host_expected_discard_dict=DictType[int32,float64]<iv=None>({17: 1.0}))"
      ]
     },
     "execution_count": 9,
     "metadata": {},
     "output_type": "execute_result"
    }
   ],
   "source": [
    "rank_information_array[0]"
   ]
  },
  {
   "cell_type": "code",
   "execution_count": 10,
   "id": "f760bce7-e921-441b-b20a-30101513b1d7",
   "metadata": {},
   "outputs": [
    {
     "name": "stdout",
     "output_type": "stream",
     "text": [
      "CPU times: user 21.4 s, sys: 1.07 s, total: 22.5 s\n",
      "Wall time: 22.8 s\n"
     ]
    }
   ],
   "source": [
    "%%time\n",
    "\n",
    "rank_matrix = np.vstack([el.rank_array for el in rank_information_array])\n",
    "rank_conditional_matrix = np.zeros((rank_matrix.shape[0], rank_matrix.shape[0]), dtype=np.float64)\n",
    "\n",
    "factorial_values = np.ones(10, dtype=np.int32)\n",
    "for i in range(2, len(factorial_values)):\n",
    "    factorial_values[i] = i * factorial_values[i-1]\n",
    "\n",
    "@jit(nopython=True)\n",
    "def fact(n):\n",
    "    # prevent some recursion/iteration\n",
    "    if n <= 10:\n",
    "        return factorial_values[n]\n",
    "    return fact(n-1) * n\n",
    "\n",
    "ncr_values = np.ones((10, 10), dtype=np.int32)\n",
    "for i in range(1, len(factorial_values)):\n",
    "    for j in range(1, len(factorial_values)):\n",
    "        ncr_values[i, j] = fact(i) // fact(j) // fact(i-j)\n",
    "\n",
    "@jit(nopython=True)\n",
    "def ncr(n, r):\n",
    "    if n <= 10 and r <= 10:\n",
    "        return ncr_values[n, r]\n",
    "    return fact(n) // fact(r) // fact(n-r)\n",
    "\n",
    "rank_counts = np.zeros((rank_matrix.shape[0], 13), dtype=np.int8)\n",
    "for i, row in enumerate(rank_matrix):\n",
    "    for el in row:\n",
    "        rank_counts[i, el] += 1\n",
    "\n",
    "@jit(nopython=True)\n",
    "def populate_rank_conditional_matrix(rank_conditional_matrix):\n",
    "    for i in range(rank_matrix.shape[0]):\n",
    "        rank_counts_row = rank_counts[i]\n",
    "        remaining_counts_row = 4 - rank_counts_row\n",
    "        for j in range(rank_matrix.shape[0]):\n",
    "            rank_counts_col = rank_counts[j]\n",
    "            num_possibilities = 1\n",
    "            for col_counts, remaining_counts in zip(rank_counts_col, remaining_counts_row):\n",
    "                if remaining_counts < col_counts:\n",
    "                    num_possibilities = 0\n",
    "                    break\n",
    "                elif col_counts > 0:\n",
    "                    num_possibilities *= ncr(remaining_counts, col_counts)\n",
    "            rank_conditional_matrix[i, j] = num_possibilities\n",
    "\n",
    "# given you have a hand, what's the weighted probability that your oppoennt has another hand\n",
    "populate_rank_conditional_matrix(rank_conditional_matrix)\n",
    "rank_conditional_normalization_constant = np.sum(rank_conditional_matrix[0])"
   ]
  },
  {
   "cell_type": "code",
   "execution_count": 11,
   "id": "bf3120e2-a140-4e54-9559-7fb800a05d4c",
   "metadata": {},
   "outputs": [],
   "source": [
    "host_discards = [el.host_expected_discard_dict for el in rank_information_array]\n",
    "csr_rows = np.repeat(np.arange(len(host_discards)), [len(el) for el in host_discards])\n",
    "host_key_values = [sorted(el.items(), key=lambda x: x[0]) for el in host_discards]\n",
    "\n",
    "csr_cols = [kv_pair[0] for discards in host_key_values for kv_pair in discards]\n",
    "csr_data = [kv_pair[1] for discards in host_key_values for kv_pair in discards]\n",
    "\n",
    "sparse_host_discard_matrix = sparse.csr_matrix((csr_data, (csr_rows, csr_cols)))"
   ]
  },
  {
   "cell_type": "code",
   "execution_count": 12,
   "id": "59ef7b46-6588-41b4-a7a6-f1816cc9ae03",
   "metadata": {},
   "outputs": [
    {
     "name": "stdout",
     "output_type": "stream",
     "text": [
      "CPU times: user 7.07 s, sys: 1.3 s, total: 8.37 s\n",
      "Wall time: 8.5 s\n"
     ]
    }
   ],
   "source": [
    "%%time\n",
    "dot_result = sparse.csr_matrix.dot(rank_conditional_matrix, sparse_host_discard_matrix)\n",
    "dot_result /= rank_conditional_normalization_constant"
   ]
  },
  {
   "cell_type": "code",
   "execution_count": 13,
   "id": "cefc4f14-0dcf-4b2e-bb8b-4664a2087dde",
   "metadata": {},
   "outputs": [
    {
     "data": {
      "text/plain": [
       "0.9999999999999986"
      ]
     },
     "execution_count": 13,
     "metadata": {},
     "output_type": "execute_result"
    }
   ],
   "source": [
    "np.min(np.sum(dot_result, axis=1))"
   ]
  },
  {
   "cell_type": "code",
   "execution_count": 14,
   "id": "5bc6e3c7-e541-4977-9de7-496d7c9649b8",
   "metadata": {},
   "outputs": [
    {
     "data": {
      "text/plain": [
       "<18395x460 sparse matrix of type '<class 'numpy.float64'>'\n",
       "\twith 102916 stored elements in Compressed Sparse Row format>"
      ]
     },
     "execution_count": 14,
     "metadata": {},
     "output_type": "execute_result"
    }
   ],
   "source": [
    "sparse_host_discard_matrix"
   ]
  },
  {
   "cell_type": "code",
   "execution_count": 15,
   "id": "28266197-ecca-45d0-98b1-13ef1334f8ae",
   "metadata": {},
   "outputs": [
    {
     "data": {
      "text/plain": [
       "(18395, 460)"
      ]
     },
     "execution_count": 15,
     "metadata": {},
     "output_type": "execute_result"
    }
   ],
   "source": [
    "dot_result.shape"
   ]
  },
  {
   "cell_type": "code",
   "execution_count": null,
   "id": "ba35420e-c5f6-477e-82b6-c7833ee3f8ad",
   "metadata": {},
   "outputs": [],
   "source": []
  },
  {
   "cell_type": "code",
   "execution_count": null,
   "id": "b5bf4a19-5fc0-477c-9a50-c2f6750d0c2f",
   "metadata": {},
   "outputs": [],
   "source": []
  },
  {
   "cell_type": "code",
   "execution_count": null,
   "id": "d2d2dcdc-5e08-4504-89fc-fcfdb7758c05",
   "metadata": {},
   "outputs": [],
   "source": []
  },
  {
   "cell_type": "code",
   "execution_count": null,
   "id": "6e7a8b5d-1308-4678-b572-47ffd740a798",
   "metadata": {},
   "outputs": [],
   "source": []
  },
  {
   "cell_type": "code",
   "execution_count": null,
   "id": "ddfb6cf6-8546-4bd8-8ac7-1be9c011e577",
   "metadata": {},
   "outputs": [],
   "source": []
  },
  {
   "cell_type": "code",
   "execution_count": null,
   "id": "31498d29-77f4-41bc-ae3b-7c76bde6787e",
   "metadata": {},
   "outputs": [],
   "source": []
  },
  {
   "cell_type": "code",
   "execution_count": null,
   "id": "f5d4a893-4f33-47fd-adda-a47cd99dc054",
   "metadata": {},
   "outputs": [],
   "source": []
  },
  {
   "cell_type": "code",
   "execution_count": 15,
   "id": "2e12547d-fc37-42af-b728-e8c0f62b0b78",
   "metadata": {},
   "outputs": [
    {
     "ename": "SyntaxError",
     "evalue": "invalid syntax (1894339460.py, line 1)",
     "output_type": "error",
     "traceback": [
      "\u001b[0;36m  Cell \u001b[0;32mIn[15], line 1\u001b[0;36m\u001b[0m\n\u001b[0;31m    dot_result[]\u001b[0m\n\u001b[0m               ^\u001b[0m\n\u001b[0;31mSyntaxError\u001b[0m\u001b[0;31m:\u001b[0m invalid syntax\n"
     ]
    }
   ],
   "source": [
    "dot_result[]"
   ]
  },
  {
   "cell_type": "code",
   "execution_count": null,
   "id": "ed848211-560c-4a5e-b493-6a6c42a70f37",
   "metadata": {},
   "outputs": [],
   "source": [
    "ncr(16, 4) * ncr(16, 4) * 4 * 4 * fact(3) * fact(3) * (1 << 6)"
   ]
  },
  {
   "cell_type": "code",
   "execution_count": null,
   "id": "a8bd17a5-630c-410a-ba1e-b67d1f3c0064",
   "metadata": {},
   "outputs": [],
   "source": [
    "non_zero_cols = sorted(set(csr_cols))\n",
    "dot_result[:, non_zero_cols][1234: 1244, :10]"
   ]
  },
  {
   "cell_type": "code",
   "execution_count": null,
   "id": "6d2ffceb-11ed-494e-a98d-3f806618caee",
   "metadata": {},
   "outputs": [],
   "source": [
    "dot_result.shape"
   ]
  },
  {
   "cell_type": "code",
   "execution_count": null,
   "id": "bb42b6bb-f967-4281-b0bb-ee36000c5b3b",
   "metadata": {},
   "outputs": [],
   "source": [
    "rank_counts[1234: 1244]"
   ]
  },
  {
   "cell_type": "code",
   "execution_count": null,
   "id": "a7912d05-c7c1-453a-a0bc-1a6cc78fdf8f",
   "metadata": {},
   "outputs": [],
   "source": [
    "rank_conditional_matrix[1234: 1244, 1234: 1244]"
   ]
  },
  {
   "cell_type": "code",
   "execution_count": null,
   "id": "a8ec2fa4-4f9e-4cce-8bb3-19f568d4cb61",
   "metadata": {},
   "outputs": [],
   "source": [
    "dot_result[1234: 1244]"
   ]
  },
  {
   "cell_type": "code",
   "execution_count": null,
   "id": "4787a053-8dbe-4968-bd30-f4b84b3a12cc",
   "metadata": {},
   "outputs": [],
   "source": [
    "np.sum(rank_conditional_matrix == 0)"
   ]
  },
  {
   "cell_type": "code",
   "execution_count": null,
   "id": "da17cd5a-9912-4d7a-b52b-554be3b10c9b",
   "metadata": {},
   "outputs": [],
   "source": [
    "np.sum(rank_conditional_matrix, axis=0)"
   ]
  },
  {
   "cell_type": "code",
   "execution_count": null,
   "id": "fd091029-7738-409a-b5a6-e6a9b8fa64f0",
   "metadata": {},
   "outputs": [],
   "source": [
    "np.sum(rank_conditional_matrix, axis=1)"
   ]
  },
  {
   "cell_type": "code",
   "execution_count": null,
   "id": "080d56fb-789d-4a00-b453-fb21bf0279e3",
   "metadata": {},
   "outputs": [],
   "source": [
    "26980798 / rank_conditional_matrix.shape[0] / rank_conditional_matrix.shape[1]"
   ]
  },
  {
   "cell_type": "code",
   "execution_count": null,
   "id": "cdb14f66-3813-4fa6-a09f-582c05867275",
   "metadata": {},
   "outputs": [],
   "source": []
  },
  {
   "cell_type": "code",
   "execution_count": null,
   "id": "795761eb-59fb-48e1-b095-f792512fe5ff",
   "metadata": {},
   "outputs": [],
   "source": []
  },
  {
   "cell_type": "code",
   "execution_count": null,
   "id": "061f3ca8-edbc-4e2f-a4b7-8ca17bfb55ef",
   "metadata": {},
   "outputs": [],
   "source": []
  },
  {
   "cell_type": "code",
   "execution_count": 28,
   "id": "76a00883-5bb5-45b2-84f7-b1e1822b9fbf",
   "metadata": {},
   "outputs": [
    {
     "data": {
      "text/plain": [
       "Counter({9366819.0: 18395})"
      ]
     },
     "execution_count": 28,
     "metadata": {},
     "output_type": "execute_result"
    }
   ],
   "source": [
    "Counter(np.sum(rank_conditional_matrix, axis=1))"
   ]
  },
  {
   "cell_type": "code",
   "execution_count": 27,
   "id": "5ea7cab4-ae67-4acb-9284-54ed16500a2f",
   "metadata": {},
   "outputs": [
    {
     "data": {
      "text/plain": [
       "9366819.0"
      ]
     },
     "execution_count": 27,
     "metadata": {},
     "output_type": "execute_result"
    }
   ],
   "source": [
    "np.sum(rank_conditional_matrix[1])"
   ]
  },
  {
   "cell_type": "code",
   "execution_count": null,
   "id": "6e191d2e-5570-4bf5-b907-f34b58340d5a",
   "metadata": {},
   "outputs": [],
   "source": [
    "rank_counts"
   ]
  },
  {
   "cell_type": "code",
   "execution_count": 39,
   "id": "0caf2dfd-b99c-429e-be02-b68da6626e8e",
   "metadata": {},
   "outputs": [
    {
     "data": {
      "text/plain": [
       "[array([0, 1]),\n",
       " array([0, 2]),\n",
       " array([0, 3]),\n",
       " array([0, 4]),\n",
       " array([0, 5]),\n",
       " array([1, 2]),\n",
       " array([1, 3]),\n",
       " array([1, 4]),\n",
       " array([1, 5]),\n",
       " array([2, 3]),\n",
       " array([2, 4]),\n",
       " array([2, 5]),\n",
       " array([3, 4]),\n",
       " array([3, 5]),\n",
       " array([4, 5])]"
      ]
     },
     "execution_count": 39,
     "metadata": {},
     "output_type": "execute_result"
    }
   ],
   "source": [
    "rank_information_array[0].discard_index_arrays"
   ]
  },
  {
   "cell_type": "code",
   "execution_count": null,
   "id": "4c0bc3de-ad60-4802-8d55-4d118e770883",
   "metadata": {},
   "outputs": [],
   "source": []
  }
 ],
 "metadata": {
  "kernelspec": {
   "display_name": "Python 3 (ipykernel)",
   "language": "python",
   "name": "python3"
  },
  "language_info": {
   "codemirror_mode": {
    "name": "ipython",
    "version": 3
   },
   "file_extension": ".py",
   "mimetype": "text/x-python",
   "name": "python",
   "nbconvert_exporter": "python",
   "pygments_lexer": "ipython3",
   "version": "3.10.9"
  }
 },
 "nbformat": 4,
 "nbformat_minor": 5
}
