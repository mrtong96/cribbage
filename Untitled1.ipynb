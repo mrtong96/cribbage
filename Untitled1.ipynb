{
 "cells": [
  {
   "cell_type": "code",
   "execution_count": 1,
   "id": "e4587141-b2d6-4094-a256-e5d333a02a84",
   "metadata": {},
   "outputs": [],
   "source": [
    "# write a better one"
   ]
  },
  {
   "cell_type": "code",
   "execution_count": 2,
   "id": "d87b51db-dfe8-4ba6-a68e-4eeda0bc9d39",
   "metadata": {},
   "outputs": [],
   "source": [
    "%load_ext autoreload\n",
    "%autoreload 2"
   ]
  },
  {
   "cell_type": "code",
   "execution_count": 3,
   "id": "1c05cb0d-ca45-433c-b8f3-fb252ad47cd2",
   "metadata": {},
   "outputs": [
    {
     "name": "stderr",
     "output_type": "stream",
     "text": [
      "C:\\Users\\nerd1\\anaconda3\\Lib\\site-packages\\numba\\typed\\typeddict.py:34: NumbaTypeSafetyWarning: \u001b[1m\u001b[1m\u001b[1munsafe cast from int64 to int32. Precision may be lost.\u001b[0m\u001b[0m\u001b[0m\n",
      "  d[key] = value\n"
     ]
    }
   ],
   "source": [
    "import itertools\n",
    "import numpy as np\n",
    "import card\n",
    "import scoring\n",
    "import hand_utils\n",
    "\n",
    "from scoring import compute_value\n",
    "from card import get_card\n",
    "from collections import Counter\n",
    "from collections import defaultdict\n",
    "import functools\n",
    "import time\n",
    "from numba import jit\n",
    "\n",
    "from numba.typed import Dict\n",
    "from numba import types\n",
    "\n",
    "from dataclasses import dataclass\n",
    "from scipy import sparse"
   ]
  },
  {
   "cell_type": "code",
   "execution_count": 4,
   "id": "0233e4a9-a154-4c7d-a057-3b17f8b558eb",
   "metadata": {},
   "outputs": [],
   "source": [
    "STARTER_CARDS = 6\n"
   ]
  },
  {
   "cell_type": "code",
   "execution_count": 5,
   "id": "8691d74d-1e74-460d-85e0-ac042003d6ec",
   "metadata": {},
   "outputs": [
    {
     "name": "stdout",
     "output_type": "stream",
     "text": [
      "18395\n"
     ]
    }
   ],
   "source": [
    "rank_array_values = hand_utils.compute_rank_array_values(STARTER_CARDS)\n",
    "print(len(rank_array_values))\n",
    "\n",
    "# store a few dictionaries like \n",
    "# (4, 2) -> all of the possible suits where there's a 4 of a kind and a 2 of a kind suits\n",
    "# because of suit reductions there's only one possible combination (all 4 suits, any 2)\n",
    "# more complicated for (1, 1, 1, 1, 1, 1) because some suits can match and others don't have to\n",
    "suit_count_to_truncated_suit_vectors = hand_utils.compute_suit_count_to_truncated_suit_vectors(rank_array_values)\n"
   ]
  },
  {
   "cell_type": "code",
   "execution_count": 6,
   "id": "3857dc4b-457b-4684-b9fb-9b72bec442eb",
   "metadata": {},
   "outputs": [],
   "source": [
    "num_starter_cards = 6\n",
    "discard_index_arrays = []\n",
    "hand_index_arrays = []\n",
    "for index_1 in range(num_starter_cards):\n",
    "    for index_2 in range(index_1 + 1, num_starter_cards):\n",
    "        hand_indexes = np.array([el for el in range(num_starter_cards) if el not in [index_1, index_2]])\n",
    "        hand_index_arrays.append(hand_indexes)\n",
    "        discard_indexes = np.array([index_1, index_2])\n",
    "        discard_index_arrays.append(discard_indexes)\n",
    "discard_index_arrays = np.vstack(discard_index_arrays)\n",
    "hand_index_arrays = np.vstack(hand_index_arrays)\n",
    "\n",
    "@dataclass\n",
    "class RankInformation:\n",
    "    num_starter_cards = num_starter_cards\n",
    "    discard_index_arrays = discard_index_arrays\n",
    "    hand_index_arrays = hand_index_arrays\n",
    "    scoring_rank_int_to_suitless_score = scoring.get_scoring_rank_int_to_suitless_score()\n",
    "\n",
    "    rank_array: np.array\n",
    "    suit_matrix: np.array\n",
    "    suit_weights: np.array\n",
    "    weight: float\n",
    "    rank_counts: list[int]\n",
    "\n",
    "    host_expected_hand: float\n",
    "    host_expected_crib: float\n",
    "    host_expected_peg: float\n",
    "    host_expected_discard_dict: dict[int, float]\n",
    "\n",
    "    non_host_expected_hand: float\n",
    "    non_host_expected_crib: float\n",
    "    non_host_expected_peg: float\n",
    "    non_host_expected_discard_dict: dict[int, float]\n",
    "    \n",
    "    def __init__(self, rank_array):\n",
    "        self.rank_array = np.array(rank_array, dtype=np.int8)\n",
    "        self.rank_counts = tuple(item[1] for item in sorted(Counter(rank_array).items(), key=lambda x: x[0]))\n",
    "        self.suit_matrix, self.suit_weights = suit_count_to_truncated_suit_vectors[self.rank_counts]\n",
    "        self.weight = np.sum(self.suit_weights)\n",
    "\n",
    "        self.host_expected_hand = None\n",
    "        self.host_expected_crib = None\n",
    "        self.host_expected_peg = None\n",
    "        self.host_expected_discard_dict = None\n",
    "\n",
    "        self.non_host_expected_hand = None\n",
    "        self.non_host_expected_crib = None\n",
    "        self.non_host_expected_peg = None\n",
    "        self.non_host_expected_discard_dict = None\n",
    "        \n",
    "    # write the jit function as a static function that is called by a class method\n",
    "    # because jit can't process class variables\n",
    "    @staticmethod\n",
    "    @jit(nopython=True)\n",
    "    def compute_optimal_discard_hand_jit(\n",
    "        suit_matrix, rank_vector, weight_vector,\n",
    "        hand_index_arrays, discard_index_arrays,\n",
    "        scoring_rank_int_to_suitless_score\n",
    "    ):\n",
    "        card_matrix = suit_matrix << 4\n",
    "        for i, card_rank in enumerate(rank_vector):\n",
    "            card_matrix[:, i] |= card_rank\n",
    "    \n",
    "        optimal_discard_cards = Dict.empty(\n",
    "            key_type=types.int32,\n",
    "            value_type=types.float64,\n",
    "        )\n",
    "    \n",
    "        expected_score_weight = 0.0\n",
    "        possible_starter_ranks = scoring.get_possible_starter_ranks(card_matrix[0])\n",
    "        for row, card_combo in enumerate(card_matrix):\n",
    "            possible_starter_suits = scoring.get_possible_starter_suits(card_combo)\n",
    "            \n",
    "            # compute the expected scores for a card combo\n",
    "            expected_scores = np.zeros(len(hand_index_arrays), dtype=np.float64)\n",
    "            for i, hand_indexes in enumerate(hand_index_arrays):\n",
    "                expected_scores[i] = scoring.compute_expected_value(\n",
    "                    card_combo[hand_indexes], False,\n",
    "                    possible_starter_ranks, possible_starter_suits,\n",
    "                    scoring_rank_int_to_suitless_score)\n",
    "\n",
    "            # find the max expected scores\n",
    "            num_max_scores = np.sum(expected_scores == np.max(expected_scores))\n",
    "            max_score_indexes = np.argsort(expected_scores)[-num_max_scores:]\n",
    "            max_expected_score = np.max(expected_scores)\n",
    "\n",
    "            expected_score_weight += weight_vector[row] * max_expected_score\n",
    "            card_combo_weight = weight_vector[row] / num_max_scores\n",
    "            for max_score_index in max_score_indexes:\n",
    "                discard_cards = card_combo[discard_index_arrays[max_score_index]]\n",
    "                discard_int = hand_utils.get_discard_int(discard_cards[0], discard_cards[1])\n",
    "\n",
    "                if discard_int not in optimal_discard_cards:\n",
    "                    optimal_discard_cards[discard_int] = 0.0\n",
    "                optimal_discard_cards[discard_int] += card_combo_weight\n",
    "\n",
    "        # expected score is the average weight divided by the number of cards (52 - 6 = 46)\n",
    "        expected_score_weight /= np.sum(weight_vector) * (52 - card_matrix.shape[1])\n",
    "        for discard_int in optimal_discard_cards:\n",
    "            optimal_discard_cards[discard_int] /= np.sum(weight_vector)\n",
    "    \n",
    "        return expected_score_weight, optimal_discard_cards\n",
    "\n",
    "    def compute_optimal_discard_hand(self):\n",
    "        expected_scores, expected_discards = RankInformation.compute_optimal_discard_hand_jit(\n",
    "            self.suit_matrix,\n",
    "            self.rank_array,\n",
    "            self.suit_weights,\n",
    "            RankInformation.hand_index_arrays,\n",
    "            RankInformation.discard_index_arrays,\n",
    "            RankInformation.scoring_rank_int_to_suitless_score\n",
    "        )\n",
    "\n",
    "        self.host_expected_hand = expected_scores\n",
    "        self.host_expected_discard_dict = expected_discards\n",
    "\n",
    "        self.non_host_expected_hand = expected_scores\n",
    "        self.non_host_expected_discard_dict = expected_discards\n",
    "\n",
    "        return expected_scores, expected_discards"
   ]
  },
  {
   "cell_type": "code",
   "execution_count": null,
   "id": "4d07cdb8",
   "metadata": {},
   "outputs": [],
   "source": []
  },
  {
   "cell_type": "code",
   "execution_count": 7,
   "id": "07d3d1e8-e86c-489d-abc4-d3d9f2b2d14a",
   "metadata": {},
   "outputs": [],
   "source": [
    "rank_information_array = [RankInformation(el) for el in rank_array_values]"
   ]
  },
  {
   "cell_type": "code",
   "execution_count": 8,
   "id": "3e48cda0",
   "metadata": {},
   "outputs": [
    {
     "data": {
      "text/plain": [
       "962988"
      ]
     },
     "execution_count": 8,
     "metadata": {},
     "output_type": "execute_result"
    }
   ],
   "source": [
    "sum([el.suit_matrix.shape[0] for el in rank_information_array])"
   ]
  },
  {
   "cell_type": "code",
   "execution_count": 9,
   "id": "0ffeb1a1",
   "metadata": {},
   "outputs": [
    {
     "name": "stdout",
     "output_type": "stream",
     "text": [
      "515 µs ± 152 µs per loop (mean ± std. dev. of 7 runs, 1 loop each)\n"
     ]
    }
   ],
   "source": [
    "%timeit _ = rank_information_array[12345].compute_optimal_discard_hand()"
   ]
  },
  {
   "cell_type": "code",
   "execution_count": 10,
   "id": "9ee982b2",
   "metadata": {},
   "outputs": [],
   "source": [
    "# x = np.array([1,2,3,4,5,6], dtype=np.int8)\n",
    "\n",
    "# %timeit _ = scoring.get_possible_starter_ranks(x)"
   ]
  },
  {
   "cell_type": "code",
   "execution_count": 11,
   "id": "f5f6be42-0770-4d18-9a5f-fad42a83be98",
   "metadata": {},
   "outputs": [
    {
     "name": "stdout",
     "output_type": "stream",
     "text": [
      "(0.0, 0)\n",
      "(0.7895393371582031, 1000)\n",
      "(1.7193586826324463, 2000)\n",
      "(4.1835503578186035, 3000)\n",
      "(6.207487344741821, 4000)\n",
      "(7.992295026779175, 5000)\n",
      "(9.593001127243042, 6000)\n",
      "(10.336264848709106, 7000)\n",
      "(11.706167459487915, 8000)\n",
      "(13.740431547164917, 9000)\n",
      "(15.657416582107544, 10000)\n",
      "(16.538261890411377, 11000)\n",
      "(17.941989183425903, 12000)\n",
      "(19.699379205703735, 13000)\n",
      "(20.612757921218872, 14000)\n",
      "(22.121893644332886, 15000)\n",
      "(22.967307090759277, 16000)\n",
      "(24.090252161026, 17000)\n",
      "(24.955330848693848, 18000)\n",
      "CPU times: total: 3.36 s\n",
      "Wall time: 25.1 s\n"
     ]
    }
   ],
   "source": [
    "%%time\n",
    "import time\n",
    "\n",
    "# (14.919295310974121, 18000)\n",
    "\n",
    "\n",
    "t0 = time.time()\n",
    "\n",
    "for i, rank_info in enumerate(rank_information_array):\n",
    "    if i % 1000 == 0:\n",
    "        print((time.time() - t0, i))\n",
    "    rank_info.compute_optimal_discard_hand()\n",
    "\n",
    "# _ = [rank_info.compute_optimal_discard_hand() for rank_info in rank_information_array]"
   ]
  },
  {
   "cell_type": "code",
   "execution_count": null,
   "id": "9ca379a1",
   "metadata": {},
   "outputs": [],
   "source": []
  },
  {
   "cell_type": "code",
   "execution_count": null,
   "id": "9f311491",
   "metadata": {},
   "outputs": [],
   "source": []
  },
  {
   "cell_type": "code",
   "execution_count": 12,
   "id": "099f648e",
   "metadata": {},
   "outputs": [
    {
     "name": "stdout",
     "output_type": "stream",
     "text": [
      "703 µs ± 36.1 µs per loop (mean ± std. dev. of 7 runs, 1,000 loops each)\n"
     ]
    }
   ],
   "source": [
    "# 237 µs ± 35.6 µs per loop (mean ± std. dev. of 7 runs, 10,000 loops each)\n",
    "\n",
    "\n",
    "%timeit _ = rank_information_array[1234].compute_optimal_discard_hand()"
   ]
  },
  {
   "cell_type": "code",
   "execution_count": 13,
   "id": "72a88f72",
   "metadata": {},
   "outputs": [
    {
     "name": "stdout",
     "output_type": "stream",
     "text": [
      "The slowest run took 9.81 times longer than the fastest. This could mean that an intermediate result is being cached.\n",
      "6.79 µs ± 7.68 µs per loop (mean ± std. dev. of 7 runs, 1 loop each)\n"
     ]
    }
   ],
   "source": [
    "hand_ranks = np.array([0,1,2,3], dtype=np.int8)\n",
    "card_rank = np.int8(5)\n",
    "\n",
    "%timeit _ = scoring.get_scoring_ranks_int(hand_ranks, card_rank)"
   ]
  },
  {
   "cell_type": "code",
   "execution_count": 14,
   "id": "3ca73513",
   "metadata": {},
   "outputs": [
    {
     "data": {
      "text/plain": [
       "18395"
      ]
     },
     "execution_count": 14,
     "metadata": {},
     "output_type": "execute_result"
    }
   ],
   "source": [
    "len(rank_information_array)"
   ]
  },
  {
   "cell_type": "code",
   "execution_count": 15,
   "id": "4419fec8",
   "metadata": {},
   "outputs": [
    {
     "data": {
      "text/plain": [
       "6.677385"
      ]
     },
     "execution_count": 15,
     "metadata": {},
     "output_type": "execute_result"
    }
   ],
   "source": [
    "18395 * 363e-6"
   ]
  },
  {
   "cell_type": "code",
   "execution_count": 28,
   "id": "e6c047bc-bb93-49a1-a2c8-f8589a47258a",
   "metadata": {},
   "outputs": [
    {
     "data": {
      "text/plain": [
       "RankInformation(rank_array=array([ 2,  4,  4,  8,  8, 12], dtype=int8), suit_matrix=array([[0, 0, 1, 0, 1, 0],\n",
       "       [0, 0, 1, 0, 1, 1],\n",
       "       [0, 0, 1, 0, 1, 2],\n",
       "       [0, 0, 1, 0, 2, 0],\n",
       "       [0, 0, 1, 0, 2, 1],\n",
       "       [0, 0, 1, 0, 2, 2],\n",
       "       [0, 0, 1, 0, 2, 3],\n",
       "       [0, 0, 1, 1, 2, 0],\n",
       "       [0, 0, 1, 1, 2, 1],\n",
       "       [0, 0, 1, 1, 2, 2],\n",
       "       [0, 0, 1, 1, 2, 3],\n",
       "       [0, 0, 1, 2, 3, 0],\n",
       "       [0, 0, 1, 2, 3, 1],\n",
       "       [0, 0, 1, 2, 3, 2],\n",
       "       [0, 1, 2, 0, 1, 0],\n",
       "       [0, 1, 2, 0, 1, 1],\n",
       "       [0, 1, 2, 0, 1, 2],\n",
       "       [0, 1, 2, 0, 1, 3],\n",
       "       [0, 1, 2, 0, 3, 0],\n",
       "       [0, 1, 2, 0, 3, 1],\n",
       "       [0, 1, 2, 0, 3, 3],\n",
       "       [0, 1, 2, 1, 2, 0],\n",
       "       [0, 1, 2, 1, 2, 1],\n",
       "       [0, 1, 2, 1, 2, 3],\n",
       "       [0, 1, 2, 1, 3, 0],\n",
       "       [0, 1, 2, 1, 3, 1],\n",
       "       [0, 1, 2, 1, 3, 2],\n",
       "       [0, 1, 2, 1, 3, 3]], dtype=int8), suit_weights=array([12, 12, 24, 24, 24, 24, 24, 24, 24, 24, 24, 12, 12, 24, 24, 24, 24,\n",
       "       24, 12, 24, 12, 12, 24, 12, 24, 24, 24, 24]), weight=576, rank_counts=(1, 2, 2, 1), host_expected_hand=5.936141304347826, host_expected_crib=None, host_expected_peg=None, host_expected_discard_dict=DictType[int32,float64]<iv=None>({388: 0.020833333333333332, 194: 0.75, 132: 0.041666666666666664, 450: 0.1875}), non_host_expected_hand=5.936141304347826, non_host_expected_crib=None, non_host_expected_peg=None, non_host_expected_discard_dict=DictType[int32,float64]<iv=None>({388: 0.020833333333333332, 194: 0.75, 132: 0.041666666666666664, 450: 0.1875}))"
      ]
     },
     "execution_count": 28,
     "metadata": {},
     "output_type": "execute_result"
    }
   ],
   "source": [
    "rank_information_array[12345]"
   ]
  },
  {
   "cell_type": "code",
   "execution_count": 17,
   "id": "f760bce7-e921-441b-b20a-30101513b1d7",
   "metadata": {},
   "outputs": [
    {
     "name": "stdout",
     "output_type": "stream",
     "text": [
      "CPU times: total: 2.45 s\n",
      "Wall time: 23.5 s\n"
     ]
    }
   ],
   "source": [
    "%%time\n",
    "\n",
    "rank_matrix = np.vstack([el.rank_array for el in rank_information_array])\n",
    "rank_conditional_matrix = np.zeros((rank_matrix.shape[0], rank_matrix.shape[0]), dtype=np.float64)\n",
    "\n",
    "factorial_values = np.ones(10, dtype=np.int32)\n",
    "for i in range(2, len(factorial_values)):\n",
    "    factorial_values[i] = i * factorial_values[i-1]\n",
    "\n",
    "@jit(nopython=True)\n",
    "def fact(n):\n",
    "    # prevent some recursion/iteration\n",
    "    if n <= 10:\n",
    "        return factorial_values[n]\n",
    "    return fact(n-1) * n\n",
    "\n",
    "ncr_values = np.ones((10, 10), dtype=np.int32)\n",
    "for i in range(1, len(factorial_values)):\n",
    "    for j in range(1, len(factorial_values)):\n",
    "        ncr_values[i, j] = fact(i) // fact(j) // fact(i-j)\n",
    "\n",
    "@jit(nopython=True)\n",
    "def ncr(n, r):\n",
    "    if n <= 10 and r <= 10:\n",
    "        return ncr_values[n, r]\n",
    "    return fact(n) // fact(r) // fact(n-r)\n",
    "\n",
    "rank_counts = np.zeros((rank_matrix.shape[0], 13), dtype=np.int8)\n",
    "for i, row in enumerate(rank_matrix):\n",
    "    for el in row:\n",
    "        rank_counts[i, el] += 1\n",
    "\n",
    "@jit(nopython=True)\n",
    "def populate_rank_conditional_matrix(rank_conditional_matrix):\n",
    "    for i in range(rank_matrix.shape[0]):\n",
    "        rank_counts_row = rank_counts[i]\n",
    "        remaining_counts_row = 4 - rank_counts_row\n",
    "        for j in range(rank_matrix.shape[0]):\n",
    "            rank_counts_col = rank_counts[j]\n",
    "            num_possibilities = 1\n",
    "            for col_counts, remaining_counts in zip(rank_counts_col, remaining_counts_row):\n",
    "                if remaining_counts < col_counts:\n",
    "                    num_possibilities = 0\n",
    "                    break\n",
    "                elif col_counts > 0:\n",
    "                    num_possibilities *= ncr(remaining_counts, col_counts)\n",
    "            rank_conditional_matrix[i, j] = num_possibilities\n",
    "\n",
    "# given you have a hand, what's the weighted probability that your oppoennt has another hand\n",
    "populate_rank_conditional_matrix(rank_conditional_matrix)\n",
    "rank_conditional_normalization_constant = np.sum(rank_conditional_matrix[0])"
   ]
  },
  {
   "cell_type": "code",
   "execution_count": 18,
   "id": "bf3120e2-a140-4e54-9559-7fb800a05d4c",
   "metadata": {},
   "outputs": [],
   "source": [
    "host_discards = [el.host_expected_discard_dict for el in rank_information_array]\n",
    "csr_rows = np.repeat(np.arange(len(host_discards)), [len(el) for el in host_discards])\n",
    "host_key_values = [sorted(el.items(), key=lambda x: x[0]) for el in host_discards]\n",
    "\n",
    "csr_cols = [kv_pair[0] for discards in host_key_values for kv_pair in discards]\n",
    "csr_data = [kv_pair[1] for discards in host_key_values for kv_pair in discards]\n",
    "\n",
    "sparse_host_discard_matrix = sparse.csr_matrix((csr_data, (csr_rows, csr_cols)))"
   ]
  },
  {
   "cell_type": "code",
   "execution_count": 19,
   "id": "59ef7b46-6588-41b4-a7a6-f1816cc9ae03",
   "metadata": {},
   "outputs": [
    {
     "name": "stdout",
     "output_type": "stream",
     "text": [
      "CPU times: total: 4.78 s\n",
      "Wall time: 42.1 s\n"
     ]
    }
   ],
   "source": [
    "%%time\n",
    "dot_result = sparse.csr_matrix.dot(rank_conditional_matrix, sparse_host_discard_matrix)\n",
    "dot_result /= rank_conditional_normalization_constant"
   ]
  },
  {
   "cell_type": "code",
   "execution_count": 20,
   "id": "cefc4f14-0dcf-4b2e-bb8b-4664a2087dde",
   "metadata": {},
   "outputs": [
    {
     "data": {
      "text/plain": [
       "0.9999999999999987"
      ]
     },
     "execution_count": 20,
     "metadata": {},
     "output_type": "execute_result"
    }
   ],
   "source": [
    "np.min(np.sum(dot_result, axis=1))"
   ]
  },
  {
   "cell_type": "code",
   "execution_count": 21,
   "id": "5bc6e3c7-e541-4977-9de7-496d7c9649b8",
   "metadata": {},
   "outputs": [
    {
     "data": {
      "text/plain": [
       "<18395x460 sparse matrix of type '<class 'numpy.float64'>'\n",
       "\twith 99565 stored elements in Compressed Sparse Row format>"
      ]
     },
     "execution_count": 21,
     "metadata": {},
     "output_type": "execute_result"
    }
   ],
   "source": [
    "sparse_host_discard_matrix"
   ]
  },
  {
   "cell_type": "code",
   "execution_count": 22,
   "id": "28266197-ecca-45d0-98b1-13ef1334f8ae",
   "metadata": {},
   "outputs": [
    {
     "data": {
      "text/plain": [
       "(18395, 460)"
      ]
     },
     "execution_count": 22,
     "metadata": {},
     "output_type": "execute_result"
    }
   ],
   "source": [
    "dot_result.shape"
   ]
  },
  {
   "cell_type": "code",
   "execution_count": 23,
   "id": "ba35420e-c5f6-477e-82b6-c7833ee3f8ad",
   "metadata": {},
   "outputs": [
    {
     "data": {
      "text/plain": [
       "(460,)"
      ]
     },
     "execution_count": 23,
     "metadata": {},
     "output_type": "execute_result"
    }
   ],
   "source": [
    "np.sum(dot_result, axis=0).shape"
   ]
  },
  {
   "cell_type": "code",
   "execution_count": 24,
   "id": "b5bf4a19-5fc0-477c-9a50-c2f6750d0c2f",
   "metadata": {},
   "outputs": [
    {
     "data": {
      "text/plain": [
       "array([ 95.65221465,   0.        ,   0.        ,   0.        ,\n",
       "         0.        ,   0.        ,   0.        ,   0.        ,\n",
       "         0.        ,   0.        ,   0.        ,   0.        ,\n",
       "         0.        ,   0.        ,   0.        ,   0.        ,\n",
       "       190.32087731, 156.69715673,   0.        ,   0.        ,\n",
       "         0.        ,   0.        ,   0.        ,   0.        ,\n",
       "         0.        ,   0.        ,   0.        ,   0.        ,\n",
       "         0.        ,   0.        ,   0.        ,   0.        ,\n",
       "       147.0372223 , 222.19932311, 105.48190659,   0.        ,\n",
       "         0.        ,   0.        ,   0.        ,   0.        ,\n",
       "         0.        ,   0.        ,   0.        ,   0.        ,\n",
       "         0.        ,   0.        ,   0.        ,   0.        ,\n",
       "       115.63808953, 143.11875209, 119.91045999,  50.94501319,\n",
       "         0.        ,   0.        ,   0.        ,   0.        ,\n",
       "         0.        ,   0.        ,   0.        ,   0.        ,\n",
       "         0.        ,   0.        ,   0.        ,   0.        ,\n",
       "       103.5115994 , 129.51320367, 112.12855171,  85.72272031,\n",
       "        51.73435391,   0.        ,   0.        ,   0.        ,\n",
       "         0.        ,   0.        ,   0.        ,   0.        ,\n",
       "         0.        ,   0.        ,   0.        ,   0.        ,\n",
       "       119.20190282, 126.51491329, 118.42800395,  76.76861782,\n",
       "        86.27674933,  59.2111027 ,   0.        ,   0.        ,\n",
       "         0.        ,   0.        ,   0.        ,   0.        ,\n",
       "         0.        ,   0.        ,   0.        ,   0.        ,\n",
       "       146.30470879, 145.31007245, 118.82541478,  77.02269013,\n",
       "        76.39444235, 121.67268891,  72.21091005,   0.        ,\n",
       "         0.        ,   0.        ,   0.        ,   0.        ,\n",
       "         0.        ,   0.        ,   0.        ,   0.        ,\n",
       "       196.3711013 , 219.41491612, 181.35712211,  86.74855846,\n",
       "       105.33922059, 130.25913058, 205.38654264, 125.52739193,\n",
       "         0.        ,   0.        ,   0.        ,   0.        ,\n",
       "         0.        ,   0.        ,   0.        ,   0.        ,\n",
       "       169.21537708, 196.70512077, 175.99425442,  79.67852645,\n",
       "        85.04606121, 148.80488575, 226.72798757, 150.01643288,\n",
       "       153.71003225,   0.        ,   0.        ,   0.        ,\n",
       "         0.        ,   0.        ,   0.        ,   0.        ,\n",
       "       160.87864098, 167.34634969, 118.64857397,  78.22532415,\n",
       "        86.23862429, 119.70827512, 145.98618924, 219.06767014,\n",
       "       181.75863943, 123.2816206 ,   0.        ,   0.        ,\n",
       "         0.        ,   0.        ,   0.        ,   0.        ,\n",
       "       148.44835114, 177.05638784, 134.15945752,  97.7163602 ,\n",
       "       125.26356229,  93.80813634, 115.52700419, 127.5443449 ,\n",
       "       121.80869474, 122.26387547,  98.79260494,   0.        ,\n",
       "         0.        ,   0.        ,   0.        ,   0.        ,\n",
       "       212.2768452 , 268.91964777, 235.66776671, 155.24949569,\n",
       "       153.11933233, 149.41048651, 144.52514497, 173.40820486,\n",
       "       219.28894361, 197.52303148, 221.70563001, 206.88634683,\n",
       "         0.        ,   0.        ,   0.        ,   0.        ,\n",
       "       256.29512667, 366.87650339, 301.02279513, 169.77857951,\n",
       "       182.33177446, 163.77641396, 167.42448368, 295.87957642,\n",
       "       273.34811053, 242.32229798, 278.99664494, 467.7884416 ,\n",
       "       274.05948532,   0.        ,   0.        ,   0.        ,\n",
       "         0.        ,   0.        ,   0.        ,   0.        ,\n",
       "         0.        ,   0.        ,   0.        ,   0.        ,\n",
       "         0.        ,   0.        ,   0.        ,   0.        ,\n",
       "         0.        ,   0.        ,   0.        ,   0.        ,\n",
       "         0.        ,   0.        ,   0.        ,   0.        ,\n",
       "         0.        ,   0.        ,   0.        ,   0.        ,\n",
       "         0.        ,   0.        ,   0.        ,   0.        ,\n",
       "         0.        ,   0.        ,   0.        ,   0.        ,\n",
       "         0.        ,   0.        ,   0.        ,   0.        ,\n",
       "         0.        ,   0.        ,   0.        ,   0.        ,\n",
       "         0.        ,   0.        ,   0.        ,   0.        ,\n",
       "         0.        ,   0.        ,   0.        ,   0.        ,\n",
       "         0.        ,   0.        ,   0.        ,   0.        ,\n",
       "         0.        ,   0.        ,   0.        ,   0.        ,\n",
       "         0.        ,   0.        ,   0.        ,   0.        ,\n",
       "         0.        ,   0.        ,   0.        ,   0.        ,\n",
       "        61.43007578,   0.        ,   0.        ,   0.        ,\n",
       "         0.        ,   0.        ,   0.        ,   0.        ,\n",
       "         0.        ,   0.        ,   0.        ,   0.        ,\n",
       "         0.        ,   0.        ,   0.        ,   0.        ,\n",
       "        47.51274185,  67.78239845,   0.        ,   0.        ,\n",
       "         0.        ,   0.        ,   0.        ,   0.        ,\n",
       "         0.        ,   0.        ,   0.        ,   0.        ,\n",
       "         0.        ,   0.        ,   0.        ,   0.        ,\n",
       "        37.84111546,  45.02514915,  37.42326151,   0.        ,\n",
       "         0.        ,   0.        ,   0.        ,   0.        ,\n",
       "         0.        ,   0.        ,   0.        ,   0.        ,\n",
       "         0.        ,   0.        ,   0.        ,   0.        ,\n",
       "        33.81958651,  41.50531333,  35.28330498,  26.87186391,\n",
       "         0.        ,   0.        ,   0.        ,   0.        ,\n",
       "         0.        ,   0.        ,   0.        ,   0.        ,\n",
       "         0.        ,   0.        ,   0.        ,   0.        ,\n",
       "        38.72590822,  40.49034703,  38.18621292,  24.74061614,\n",
       "        27.28804206,   0.        ,   0.        ,   0.        ,\n",
       "         0.        ,   0.        ,   0.        ,   0.        ,\n",
       "         0.        ,   0.        ,   0.        ,   0.        ,\n",
       "        46.85069883,  45.92377476,  37.57391243,  24.80988258,\n",
       "        24.5669572 ,  37.08512346,   0.        ,   0.        ,\n",
       "         0.        ,   0.        ,   0.        ,   0.        ,\n",
       "         0.        ,   0.        ,   0.        ,   0.        ,\n",
       "        62.55700868,  68.47207536,  56.64527084,  27.75719108,\n",
       "        33.68635227,  39.7437183 ,  61.10361059,   0.        ,\n",
       "         0.        ,   0.        ,   0.        ,   0.        ,\n",
       "         0.        ,   0.        ,   0.        ,   0.        ,\n",
       "        54.27932582,  61.83222392,  54.88313671,  25.87438498,\n",
       "        27.30308897,  46.52290727,  68.48258713,  42.75687556,\n",
       "         0.        ,   0.        ,   0.        ,   0.        ,\n",
       "         0.        ,   0.        ,   0.        ,   0.        ,\n",
       "        51.96196938,  52.69689382,  38.1498434 ,  25.73931026,\n",
       "        28.05641016,  37.73915517,  42.79412372,  68.24147209,\n",
       "        55.75627284,   0.        ,   0.        ,   0.        ,\n",
       "         0.        ,   0.        ,   0.        ,   0.        ,\n",
       "        48.82736996,  58.01368745,  44.5848922 ,  33.17422274,\n",
       "        40.73450384,  29.32011565,  39.66324066,  44.16103027,\n",
       "        41.291577  ,  40.23985782,   0.        ,   0.        ,\n",
       "         0.        ,   0.        ,   0.        ,   0.        ,\n",
       "        67.26766684,  85.14945176,  75.51222659,  49.68992777,\n",
       "        45.78281471,  48.7608854 ,  46.53829109,  55.85832281,\n",
       "        69.87214876,  61.82916325,  70.87454058,   0.        ,\n",
       "         0.        ,   0.        ,   0.        ,   0.        ,\n",
       "        80.25236795, 115.11127433,  94.91420653,  50.34847551,\n",
       "        59.28000031,  53.01498938,  52.8543662 ,  91.70136744,\n",
       "        86.62974288,  76.4330272 ,  89.08571646, 142.99091315])"
      ]
     },
     "execution_count": 24,
     "metadata": {},
     "output_type": "execute_result"
    }
   ],
   "source": [
    "np.sum(dot_result, axis=0)"
   ]
  },
  {
   "cell_type": "code",
   "execution_count": 25,
   "id": "d2d2dcdc-5e08-4504-89fc-fcfdb7758c05",
   "metadata": {},
   "outputs": [
    {
     "data": {
      "text/plain": [
       "20358520"
      ]
     },
     "execution_count": 25,
     "metadata": {},
     "output_type": "execute_result"
    }
   ],
   "source": [
    "sum([el.weight for el in rank_information_array])"
   ]
  },
  {
   "cell_type": "code",
   "execution_count": 26,
   "id": "6e7a8b5d-1308-4678-b572-47ffd740a798",
   "metadata": {},
   "outputs": [
    {
     "data": {
      "text/plain": [
       "20358520"
      ]
     },
     "execution_count": 26,
     "metadata": {},
     "output_type": "execute_result"
    }
   ],
   "source": [
    "20358520"
   ]
  },
  {
   "cell_type": "code",
   "execution_count": 27,
   "id": "ddfb6cf6-8546-4bd8-8ac7-1be9c011e577",
   "metadata": {},
   "outputs": [
    {
     "data": {
      "text/plain": [
       "20358520.0"
      ]
     },
     "execution_count": 27,
     "metadata": {},
     "output_type": "execute_result"
    }
   ],
   "source": [
    "(52 * 51 * 50 * 49 * 48 * 47) / 720"
   ]
  },
  {
   "cell_type": "code",
   "execution_count": null,
   "id": "31498d29-77f4-41bc-ae3b-7c76bde6787e",
   "metadata": {},
   "outputs": [],
   "source": []
  },
  {
   "cell_type": "code",
   "execution_count": null,
   "id": "f5d4a893-4f33-47fd-adda-a47cd99dc054",
   "metadata": {},
   "outputs": [],
   "source": []
  },
  {
   "cell_type": "code",
   "execution_count": null,
   "id": "4c0bc3de-ad60-4802-8d55-4d118e770883",
   "metadata": {},
   "outputs": [],
   "source": []
  }
 ],
 "metadata": {
  "kernelspec": {
   "display_name": "Python 3 (ipykernel)",
   "language": "python",
   "name": "python3"
  },
  "language_info": {
   "codemirror_mode": {
    "name": "ipython",
    "version": 3
   },
   "file_extension": ".py",
   "mimetype": "text/x-python",
   "name": "python",
   "nbconvert_exporter": "python",
   "pygments_lexer": "ipython3",
   "version": "3.11.3"
  }
 },
 "nbformat": 4,
 "nbformat_minor": 5
}
