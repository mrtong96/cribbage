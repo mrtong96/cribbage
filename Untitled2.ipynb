{
 "cells": [
  {
   "cell_type": "code",
   "execution_count": 1,
   "id": "2fc09a38-d243-4ebc-86c2-0799912061a2",
   "metadata": {},
   "outputs": [],
   "source": [
    "%load_ext autoreload\n",
    "%autoreload 2"
   ]
  },
  {
   "cell_type": "code",
   "execution_count": 2,
   "id": "e4d910df-ee44-44b9-9500-39e979479478",
   "metadata": {},
   "outputs": [
    {
     "name": "stderr",
     "output_type": "stream",
     "text": [
      "/usr/local/lib/python3.10/site-packages/numba/typed/typeddict.py:34: NumbaTypeSafetyWarning: unsafe cast from int64 to int32. Precision may be lost.\n",
      "  d[key] = value\n"
     ]
    }
   ],
   "source": [
    "import itertools\n",
    "import numpy as np\n",
    "import card\n",
    "import scoring\n",
    "import hand_utils\n",
    "\n",
    "from scoring import compute_value\n",
    "from card import get_card\n",
    "from collections import Counter\n",
    "from collections import defaultdict\n",
    "import functools\n",
    "import time\n",
    "from numba import jit\n",
    "\n",
    "from numba.typed import Dict\n",
    "from numba import types\n",
    "\n",
    "from dataclasses import dataclass\n",
    "from scipy import sparse"
   ]
  },
  {
   "cell_type": "code",
   "execution_count": 3,
   "id": "d0592890-9dff-4711-af16-dd5167bdffd2",
   "metadata": {},
   "outputs": [],
   "source": [
    "PLAY_CARDS = 4"
   ]
  },
  {
   "cell_type": "code",
   "execution_count": 5,
   "id": "1336e525-61bc-4490-b4c1-2c535a0aa67c",
   "metadata": {},
   "outputs": [
    {
     "name": "stdout",
     "output_type": "stream",
     "text": [
      "1820\n"
     ]
    }
   ],
   "source": [
    "rank_array_values = hand_utils.compute_rank_array_values(PLAY_CARDS)\n",
    "print(len(rank_array_values))\n",
    "\n",
    "# store a few dictionaries like \n",
    "# (4, 2) -> all of the possible suits where there's a 4 of a kind and a 2 of a kind suits\n",
    "# because of suit reductions there's only one possible combination (all 4 suits, any 2)\n",
    "# more complicated for (1, 1, 1, 1, 1, 1) because some suits can match and others don't have to\n",
    "suit_count_to_truncated_suit_vectors = hand_utils.compute_suit_count_to_truncated_suit_vectors(rank_array_values)\n"
   ]
  },
  {
   "cell_type": "code",
   "execution_count": 14,
   "id": "b33b89a7-754e-43eb-971d-86e3df7fa60c",
   "metadata": {},
   "outputs": [
    {
     "name": "stdout",
     "output_type": "stream",
     "text": [
      "CPU times: user 9.53 s, sys: 46.6 ms, total: 9.58 s\n",
      "Wall time: 9.64 s\n"
     ]
    },
    {
     "data": {
      "text/plain": [
       "3274375"
      ]
     },
     "execution_count": 14,
     "metadata": {},
     "output_type": "execute_result"
    }
   ],
   "source": [
    "%%time\n",
    "\n",
    "valid_pairs = 0\n",
    "for first_rank, second_rank in itertools.product(rank_array_values, repeat=2):\n",
    "    if max(Counter(first_rank + second_rank).values()) <= 4:\n",
    "        valid_pairs += 1\n",
    "valid_pairs"
   ]
  },
  {
   "cell_type": "code",
   "execution_count": 15,
   "id": "c2542143-56a0-47d6-8b90-c1bf56a1cff1",
   "metadata": {},
   "outputs": [
    {
     "data": {
      "text/plain": [
       "(3274375, 0.9885204081632653)"
      ]
     },
     "execution_count": 15,
     "metadata": {},
     "output_type": "execute_result"
    }
   ],
   "source": [
    "valid_pairs, valid_pairs / len(rank_array_values) ** 2"
   ]
  },
  {
   "cell_type": "code",
   "execution_count": 17,
   "id": "e520f3f5-e7be-4836-92ec-104f77f7f70d",
   "metadata": {},
   "outputs": [
    {
     "data": {
      "text/plain": [
       "5760"
      ]
     },
     "execution_count": 17,
     "metadata": {},
     "output_type": "execute_result"
    }
   ],
   "source": [
    "4 * 4 * 3 * 5 * 4 * 3 * 2 * 1"
   ]
  },
  {
   "cell_type": "code",
   "execution_count": null,
   "id": "653147c8-6807-40f7-8b0a-9d40b3ca3bcc",
   "metadata": {},
   "outputs": [],
   "source": [
    "# ncr(16, 4) = 1820 starting hands to play\n",
    "# so ~1820^2 possible states\n",
    "# upper bound on possible play states is 4*4*3*5! = 5760 combos to play\n",
    "\n",
    "# state counter:\n",
    "# 1st: 1820 starting positions * 4 decisions\n",
    "# 2nd: 13 possible seen cards * 1820 starting positions * 4 decisions\n",
    "# 3rd: 13*455 hand states * 13 response cards * 3 decisions\n",
    "# 4th: 13*455 hand states * 13^2 responses * 3 decisions + 4*1820 first cards + 13^2 responses * 2 decisions"
   ]
  },
  {
   "cell_type": "code",
   "execution_count": 19,
   "id": "9ae9a609-520a-42ad-998b-b6ad7e244cbe",
   "metadata": {},
   "outputs": [
    {
     "data": {
      "text/plain": [
       "0.45483392500000003"
      ]
     },
     "execution_count": 19,
     "metadata": {},
     "output_type": "execute_result"
    }
   ],
   "source": []
  },
  {
   "cell_type": "code",
   "execution_count": 20,
   "id": "574ce68a-b8ef-41be-8eee-35045484bc4e",
   "metadata": {},
   "outputs": [
    {
     "data": {
      "text/plain": [
       "0.8157307210000001"
      ]
     },
     "execution_count": 20,
     "metadata": {},
     "output_type": "execute_result"
    }
   ],
   "source": [
    "13 ** 8 * 1e-9"
   ]
  },
  {
   "cell_type": "code",
   "execution_count": 21,
   "id": "5fd8072f-7fc0-4e1c-99e3-064588da0b03",
   "metadata": {},
   "outputs": [
    {
     "data": {
      "text/plain": [
       "18.860400000000002"
      ]
     },
     "execution_count": 21,
     "metadata": {},
     "output_type": "execute_result"
    }
   ],
   "source": [
    "3274375 * 5760 * 1e-9\n"
   ]
  },
  {
   "cell_type": "code",
   "execution_count": 22,
   "id": "5c0ac7fa-64b2-45cf-b149-78d8fc2b49fd",
   "metadata": {},
   "outputs": [
    {
     "data": {
      "text/plain": [
       "6151600"
      ]
     },
     "execution_count": 22,
     "metadata": {},
     "output_type": "execute_result"
    }
   ],
   "source": [
    "4 * 1820 * 13 * 13  * 5\n"
   ]
  },
  {
   "cell_type": "code",
   "execution_count": 23,
   "id": "88d68acb-4e92-4d3b-8e82-662e37cc1ae4",
   "metadata": {},
   "outputs": [
    {
     "data": {
      "text/plain": [
       "[13, 91, 455, 1820]"
      ]
     },
     "execution_count": 23,
     "metadata": {},
     "output_type": "execute_result"
    }
   ],
   "source": [
    "[13, 91, 455, 1820]"
   ]
  },
  {
   "cell_type": "code",
   "execution_count": 24,
   "id": "cd6be80f-43ea-4aa9-b94f-75ab7f26ce79",
   "metadata": {},
   "outputs": [
    {
     "data": {
      "text/plain": [
       "5915"
      ]
     },
     "execution_count": 24,
     "metadata": {},
     "output_type": "execute_result"
    }
   ],
   "source": [
    "455 * 13"
   ]
  },
  {
   "cell_type": "code",
   "execution_count": 25,
   "id": "a80876e1-3641-4b7f-8d0e-3e9f3339d6d5",
   "metadata": {},
   "outputs": [
    {
     "data": {
      "text/plain": [
       "7280"
      ]
     },
     "execution_count": 25,
     "metadata": {},
     "output_type": "execute_result"
    }
   ],
   "source": [
    "4 * 1820"
   ]
  },
  {
   "cell_type": "code",
   "execution_count": 26,
   "id": "f4234d99-8247-4e46-963d-c5c4d57db1b3",
   "metadata": {},
   "outputs": [
    {
     "data": {
      "text/plain": [
       "15379"
      ]
     },
     "execution_count": 26,
     "metadata": {},
     "output_type": "execute_result"
    }
   ],
   "source": [
    "13 * 13 * 91"
   ]
  },
  {
   "cell_type": "code",
   "execution_count": null,
   "id": "d0d79f16-b55a-4e46-a0ee-96fabd4178a1",
   "metadata": {},
   "outputs": [],
   "source": []
  }
 ],
 "metadata": {
  "kernelspec": {
   "display_name": "Python 3 (ipykernel)",
   "language": "python",
   "name": "python3"
  },
  "language_info": {
   "codemirror_mode": {
    "name": "ipython",
    "version": 3
   },
   "file_extension": ".py",
   "mimetype": "text/x-python",
   "name": "python",
   "nbconvert_exporter": "python",
   "pygments_lexer": "ipython3",
   "version": "3.10.9"
  }
 },
 "nbformat": 4,
 "nbformat_minor": 5
}
