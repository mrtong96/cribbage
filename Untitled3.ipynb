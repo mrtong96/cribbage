{
 "cells": [
  {
   "cell_type": "code",
   "execution_count": 51,
   "id": "d3a06ec8",
   "metadata": {},
   "outputs": [
    {
     "name": "stdout",
     "output_type": "stream",
     "text": [
      "Requirement already satisfied: numba in c:\\users\\nerd1\\anaconda3\\lib\\site-packages (0.57.0)\n",
      "Collecting numba\n",
      "  Downloading numba-0.60.0-cp311-cp311-win_amd64.whl (2.7 MB)\n",
      "                                              0.0/2.7 MB ? eta -:--:--\n",
      "     --                                       0.1/2.7 MB 4.3 MB/s eta 0:00:01\n",
      "     --------                                 0.6/2.7 MB 6.3 MB/s eta 0:00:01\n",
      "     ------------------                       1.2/2.7 MB 8.7 MB/s eta 0:00:01\n",
      "     -----------------------------            2.0/2.7 MB 10.5 MB/s eta 0:00:01\n",
      "     ---------------------------------------  2.7/2.7 MB 12.2 MB/s eta 0:00:01\n",
      "     ---------------------------------------- 2.7/2.7 MB 10.7 MB/s eta 0:00:00\n",
      "Collecting llvmlite<0.44,>=0.43.0dev0 (from numba)\n",
      "  Downloading llvmlite-0.43.0-cp311-cp311-win_amd64.whl (28.1 MB)\n",
      "                                              0.0/28.1 MB ? eta -:--:--\n",
      "     -                                        0.8/28.1 MB 25.0 MB/s eta 0:00:02\n",
      "     --                                       1.6/28.1 MB 17.3 MB/s eta 0:00:02\n",
      "     ---                                      2.2/28.1 MB 15.7 MB/s eta 0:00:02\n",
      "     ----                                     2.9/28.1 MB 15.4 MB/s eta 0:00:02\n",
      "     -----                                    3.6/28.1 MB 16.6 MB/s eta 0:00:02\n",
      "     ------                                   4.4/28.1 MB 16.6 MB/s eta 0:00:02\n",
      "     -------                                  5.2/28.1 MB 16.7 MB/s eta 0:00:02\n",
      "     --------                                 6.0/28.1 MB 16.6 MB/s eta 0:00:02\n",
      "     ---------                                6.7/28.1 MB 16.5 MB/s eta 0:00:02\n",
      "     ----------                               7.4/28.1 MB 16.2 MB/s eta 0:00:02\n",
      "     -----------                              8.1/28.1 MB 16.1 MB/s eta 0:00:02\n",
      "     ------------                             8.8/28.1 MB 16.1 MB/s eta 0:00:02\n",
      "     -------------                            9.5/28.1 MB 16.0 MB/s eta 0:00:02\n",
      "     --------------                          10.3/28.1 MB 16.0 MB/s eta 0:00:02\n",
      "     ---------------                         11.1/28.1 MB 16.0 MB/s eta 0:00:02\n",
      "     ----------------                        11.8/28.1 MB 15.6 MB/s eta 0:00:02\n",
      "     -----------------                       12.6/28.1 MB 16.0 MB/s eta 0:00:01\n",
      "     ------------------                      13.3/28.1 MB 16.0 MB/s eta 0:00:01\n",
      "     -------------------                     14.0/28.1 MB 16.0 MB/s eta 0:00:01\n",
      "     --------------------                    14.5/28.1 MB 15.6 MB/s eta 0:00:01\n",
      "     ---------------------                   15.2/28.1 MB 15.6 MB/s eta 0:00:01\n",
      "     ----------------------                  16.0/28.1 MB 15.6 MB/s eta 0:00:01\n",
      "     ----------------------                  16.5/28.1 MB 15.2 MB/s eta 0:00:01\n",
      "     -----------------------                 17.1/28.1 MB 14.9 MB/s eta 0:00:01\n",
      "     ------------------------                17.8/28.1 MB 14.9 MB/s eta 0:00:01\n",
      "     -------------------------               18.6/28.1 MB 14.9 MB/s eta 0:00:01\n",
      "     --------------------------              19.4/28.1 MB 15.2 MB/s eta 0:00:01\n",
      "     ---------------------------             20.0/28.1 MB 14.9 MB/s eta 0:00:01\n",
      "     ----------------------------            20.8/28.1 MB 14.9 MB/s eta 0:00:01\n",
      "     -----------------------------           21.6/28.1 MB 14.9 MB/s eta 0:00:01\n",
      "     ------------------------------          22.3/28.1 MB 14.9 MB/s eta 0:00:01\n",
      "     -------------------------------         23.0/28.1 MB 15.2 MB/s eta 0:00:01\n",
      "     --------------------------------        23.8/28.1 MB 14.9 MB/s eta 0:00:01\n",
      "     ---------------------------------       24.4/28.1 MB 14.5 MB/s eta 0:00:01\n",
      "     ----------------------------------      25.1/28.1 MB 15.2 MB/s eta 0:00:01\n",
      "     -----------------------------------     25.9/28.1 MB 15.2 MB/s eta 0:00:01\n",
      "     -------------------------------------   26.7/28.1 MB 16.0 MB/s eta 0:00:01\n",
      "     --------------------------------------  27.4/28.1 MB 16.0 MB/s eta 0:00:01\n",
      "     --------------------------------------  28.1/28.1 MB 16.0 MB/s eta 0:00:01\n",
      "     --------------------------------------  28.1/28.1 MB 15.6 MB/s eta 0:00:01\n",
      "     --------------------------------------  28.1/28.1 MB 15.6 MB/s eta 0:00:01\n",
      "     --------------------------------------- 28.1/28.1 MB 13.1 MB/s eta 0:00:00\n",
      "Requirement already satisfied: numpy<2.1,>=1.22 in c:\\users\\nerd1\\anaconda3\\lib\\site-packages (from numba) (1.24.3)\n",
      "Installing collected packages: llvmlite, numba\n",
      "  Attempting uninstall: llvmlite\n",
      "    Found existing installation: llvmlite 0.40.0\n",
      "    Uninstalling llvmlite-0.40.0:\n",
      "      Successfully uninstalled llvmlite-0.40.0\n",
      "  Attempting uninstall: numba\n",
      "    Found existing installation: numba 0.57.0\n",
      "    Uninstalling numba-0.57.0:\n",
      "      Successfully uninstalled numba-0.57.0\n",
      "Successfully installed llvmlite-0.43.0 numba-0.60.0\n",
      "Requirement already satisfied: numpy in c:\\users\\nerd1\\anaconda3\\lib\\site-packages (1.24.3)\n",
      "Collecting numpy\n",
      "  Downloading numpy-2.0.0-cp311-cp311-win_amd64.whl (16.5 MB)\n",
      "                                              0.0/16.5 MB ? eta -:--:--\n",
      "                                              0.2/16.5 MB 5.1 MB/s eta 0:00:04\n",
      "     -                                        0.8/16.5 MB 8.2 MB/s eta 0:00:02\n",
      "     --                                       1.2/16.5 MB 10.5 MB/s eta 0:00:02\n",
      "     --                                       1.2/16.5 MB 7.8 MB/s eta 0:00:02\n",
      "     ---                                      1.3/16.5 MB 5.5 MB/s eta 0:00:03\n",
      "     ---                                      1.5/16.5 MB 5.1 MB/s eta 0:00:03\n",
      "     ----                                     1.8/16.5 MB 5.4 MB/s eta 0:00:03\n",
      "     -----                                    2.4/16.5 MB 6.3 MB/s eta 0:00:03\n",
      "     -------                                  2.9/16.5 MB 7.1 MB/s eta 0:00:02\n",
      "     --------                                 3.5/16.5 MB 7.4 MB/s eta 0:00:02\n",
      "     ----------                               4.2/16.5 MB 8.2 MB/s eta 0:00:02\n",
      "     ------------                             5.0/16.5 MB 8.9 MB/s eta 0:00:02\n",
      "     -------------                            5.6/16.5 MB 9.1 MB/s eta 0:00:02\n",
      "     ---------------                          6.2/16.5 MB 9.5 MB/s eta 0:00:02\n",
      "     ----------------                         7.0/16.5 MB 10.1 MB/s eta 0:00:01\n",
      "     ------------------                       7.6/16.5 MB 10.4 MB/s eta 0:00:01\n",
      "     --------------------                     8.5/16.5 MB 10.8 MB/s eta 0:00:01\n",
      "     ---------------------                    9.0/16.5 MB 10.8 MB/s eta 0:00:01\n",
      "     -----------------------                  9.7/16.5 MB 11.1 MB/s eta 0:00:01\n",
      "     ------------------------                10.4/16.5 MB 11.5 MB/s eta 0:00:01\n",
      "     --------------------------              11.2/16.5 MB 11.7 MB/s eta 0:00:01\n",
      "     ----------------------------            11.9/16.5 MB 14.6 MB/s eta 0:00:01\n",
      "     -----------------------------           12.5/16.5 MB 14.6 MB/s eta 0:00:01\n",
      "     -------------------------------         13.4/16.5 MB 15.2 MB/s eta 0:00:01\n",
      "     ---------------------------------       14.2/16.5 MB 15.6 MB/s eta 0:00:01\n",
      "     -----------------------------------     15.0/16.5 MB 15.6 MB/s eta 0:00:01\n",
      "     ------------------------------------    15.6/16.5 MB 15.6 MB/s eta 0:00:01\n",
      "     --------------------------------------  16.3/16.5 MB 15.6 MB/s eta 0:00:01\n",
      "     --------------------------------------  16.5/16.5 MB 15.6 MB/s eta 0:00:01\n",
      "     --------------------------------------- 16.5/16.5 MB 14.5 MB/s eta 0:00:00\n",
      "Installing collected packages: numpy\n",
      "  Attempting uninstall: numpy\n",
      "    Found existing installation: numpy 1.24.3\n",
      "    Uninstalling numpy-1.24.3:\n",
      "      Successfully uninstalled numpy-1.24.3\n",
      "Successfully installed numpy-2.0.0\n"
     ]
    },
    {
     "name": "stderr",
     "output_type": "stream",
     "text": [
      "ERROR: pip's dependency resolver does not currently take into account all the packages that are installed. This behaviour is the source of the following dependency conflicts.\n",
      "gensim 4.3.0 requires FuzzyTM>=0.4.0, which is not installed.\n",
      "tables 3.8.0 requires blosc2~=2.0.0, which is not installed.\n",
      "tables 3.8.0 requires cython>=0.29.21, which is not installed.\n",
      "transformers 2.1.1 requires sentencepiece, which is not installed.\n",
      "scipy 1.10.1 requires numpy<1.27.0,>=1.19.5, but you have numpy 2.0.0 which is incompatible.\n"
     ]
    },
    {
     "name": "stdout",
     "output_type": "stream",
     "text": [
      "Requirement already satisfied: scikit-learn in c:\\users\\nerd1\\anaconda3\\lib\\site-packages (1.2.2)\n",
      "Collecting scikit-learn\n",
      "  Downloading scikit_learn-1.5.0-cp311-cp311-win_amd64.whl (11.0 MB)\n",
      "                                              0.0/11.0 MB ? eta -:--:--\n",
      "                                              0.2/11.0 MB 5.1 MB/s eta 0:00:03\n",
      "     --                                       0.7/11.0 MB 8.8 MB/s eta 0:00:02\n",
      "     -----                                    1.4/11.0 MB 11.1 MB/s eta 0:00:01\n",
      "     --------                                 2.2/11.0 MB 12.9 MB/s eta 0:00:01\n",
      "     ----------                               2.9/11.0 MB 13.1 MB/s eta 0:00:01\n",
      "     -------------                            3.7/11.0 MB 13.8 MB/s eta 0:00:01\n",
      "     ---------------                          4.2/11.0 MB 14.2 MB/s eta 0:00:01\n",
      "     ------------------                       5.0/11.0 MB 13.8 MB/s eta 0:00:01\n",
      "     ---------------------                    5.8/11.0 MB 14.2 MB/s eta 0:00:01\n",
      "     -----------------------                  6.5/11.0 MB 14.3 MB/s eta 0:00:01\n",
      "     --------------------------               7.3/11.0 MB 14.5 MB/s eta 0:00:01\n",
      "     ----------------------------             7.9/11.0 MB 14.4 MB/s eta 0:00:01\n",
      "     -------------------------------          8.7/11.0 MB 14.6 MB/s eta 0:00:01\n",
      "     ----------------------------------       9.4/11.0 MB 14.7 MB/s eta 0:00:01\n",
      "     ------------------------------------    10.2/11.0 MB 14.7 MB/s eta 0:00:01\n",
      "     --------------------------------------  10.8/11.0 MB 15.6 MB/s eta 0:00:01\n",
      "     --------------------------------------  11.0/11.0 MB 15.2 MB/s eta 0:00:01\n",
      "     --------------------------------------- 11.0/11.0 MB 14.2 MB/s eta 0:00:00\n",
      "Requirement already satisfied: numpy>=1.19.5 in c:\\users\\nerd1\\anaconda3\\lib\\site-packages (from scikit-learn) (2.0.0)\n",
      "Requirement already satisfied: scipy>=1.6.0 in c:\\users\\nerd1\\anaconda3\\lib\\site-packages (from scikit-learn) (1.10.1)\n",
      "Requirement already satisfied: joblib>=1.2.0 in c:\\users\\nerd1\\anaconda3\\lib\\site-packages (from scikit-learn) (1.2.0)\n",
      "Collecting threadpoolctl>=3.1.0 (from scikit-learn)\n",
      "  Downloading threadpoolctl-3.5.0-py3-none-any.whl (18 kB)\n",
      "Collecting numpy>=1.19.5 (from scikit-learn)\n",
      "  Downloading numpy-1.26.4-cp311-cp311-win_amd64.whl (15.8 MB)\n",
      "                                              0.0/15.8 MB ? eta -:--:--\n",
      "     -                                        0.6/15.8 MB 19.8 MB/s eta 0:00:01\n",
      "     ---                                      1.4/15.8 MB 17.6 MB/s eta 0:00:01\n",
      "     -----                                    2.1/15.8 MB 16.9 MB/s eta 0:00:01\n",
      "     -------                                  2.9/15.8 MB 16.7 MB/s eta 0:00:01\n",
      "     ---------                                3.6/15.8 MB 16.7 MB/s eta 0:00:01\n",
      "     -----------                              4.4/15.8 MB 16.5 MB/s eta 0:00:01\n",
      "     -------------                            5.2/15.8 MB 16.6 MB/s eta 0:00:01\n",
      "     --------------                           5.9/15.8 MB 16.3 MB/s eta 0:00:01\n",
      "     ----------------                         6.6/15.8 MB 16.3 MB/s eta 0:00:01\n",
      "     ------------------                       7.4/15.8 MB 16.2 MB/s eta 0:00:01\n",
      "     --------------------                     8.0/15.8 MB 16.1 MB/s eta 0:00:01\n",
      "     ----------------------                   8.7/15.8 MB 15.9 MB/s eta 0:00:01\n",
      "     ------------------------                 9.5/15.8 MB 16.0 MB/s eta 0:00:01\n",
      "     -------------------------               10.3/15.8 MB 16.0 MB/s eta 0:00:01\n",
      "     ---------------------------             11.0/15.8 MB 16.0 MB/s eta 0:00:01\n",
      "     ----------------------------            11.4/15.8 MB 15.2 MB/s eta 0:00:01\n",
      "     -----------------------------           11.8/15.8 MB 14.9 MB/s eta 0:00:01\n",
      "     ------------------------------          12.4/15.8 MB 14.6 MB/s eta 0:00:01\n",
      "     --------------------------------        13.2/15.8 MB 14.6 MB/s eta 0:00:01\n",
      "     ----------------------------------      13.9/15.8 MB 14.5 MB/s eta 0:00:01\n",
      "     ------------------------------------    14.6/15.8 MB 14.6 MB/s eta 0:00:01\n",
      "     -------------------------------------   15.3/15.8 MB 14.2 MB/s eta 0:00:01\n",
      "     --------------------------------------  15.8/15.8 MB 14.2 MB/s eta 0:00:01\n",
      "     --------------------------------------- 15.8/15.8 MB 13.6 MB/s eta 0:00:00\n",
      "Installing collected packages: threadpoolctl, numpy, scikit-learn\n",
      "  Attempting uninstall: threadpoolctl\n",
      "    Found existing installation: threadpoolctl 2.2.0\n",
      "    Uninstalling threadpoolctl-2.2.0:\n",
      "      Successfully uninstalled threadpoolctl-2.2.0\n",
      "  Attempting uninstall: numpy\n",
      "    Found existing installation: numpy 2.0.0\n",
      "    Uninstalling numpy-2.0.0:\n",
      "      Successfully uninstalled numpy-2.0.0\n",
      "  Attempting uninstall: scikit-learn\n",
      "    Found existing installation: scikit-learn 1.2.2\n",
      "    Uninstalling scikit-learn-1.2.2:\n",
      "      Successfully uninstalled scikit-learn-1.2.2\n",
      "Successfully installed numpy-1.26.4 scikit-learn-1.5.0 threadpoolctl-3.5.0\n"
     ]
    },
    {
     "name": "stderr",
     "output_type": "stream",
     "text": [
      "ERROR: pip's dependency resolver does not currently take into account all the packages that are installed. This behaviour is the source of the following dependency conflicts.\n",
      "gensim 4.3.0 requires FuzzyTM>=0.4.0, which is not installed.\n",
      "tables 3.8.0 requires blosc2~=2.0.0, which is not installed.\n",
      "tables 3.8.0 requires cython>=0.29.21, which is not installed.\n",
      "transformers 2.1.1 requires sentencepiece, which is not installed.\n"
     ]
    }
   ],
   "source": [
    "!pip install numba --upgrade\n",
    "!pip install numpy --upgrade\n",
    "!pip install scikit-learn --upgrade\n"
   ]
  },
  {
   "cell_type": "code",
   "execution_count": 11,
   "id": "f7bf50a9",
   "metadata": {},
   "outputs": [],
   "source": [
    "# compute map for scoring\n",
    "\n",
    "import scoring\n",
    "import hand_utils\n",
    "from numba import jit\n",
    "import numpy as np"
   ]
  },
  {
   "cell_type": "code",
   "execution_count": 49,
   "id": "e92db83e",
   "metadata": {},
   "outputs": [
    {
     "name": "stdout",
     "output_type": "stream",
     "text": [
      "1820\n"
     ]
    }
   ],
   "source": [
    "HAND_CARDS = 4\n",
    "\n",
    "rank_array_values = np.array(hand_utils.compute_rank_array_values(HAND_CARDS))\n",
    "print(len(rank_array_values))"
   ]
  },
  {
   "cell_type": "code",
   "execution_count": 9,
   "id": "ab9df6b3",
   "metadata": {},
   "outputs": [],
   "source": [
    "from numba.typed import Dict\n",
    "from numba import types"
   ]
  },
  {
   "cell_type": "code",
   "execution_count": 47,
   "id": "79112b96",
   "metadata": {},
   "outputs": [
    {
     "name": "stdout",
     "output_type": "stream",
     "text": [
      "CPU times: total: 250 ms\n",
      "Wall time: 550 ms\n"
     ]
    }
   ],
   "source": [
    "%%time\n",
    "\n",
    "@jit(nopython=True)\n",
    "def get_scoring_ranks_int(scoring_card_ranks, starter_card_rank):\n",
    "    # -1 is the error code\n",
    "    if np.all(starter_card_rank == scoring_card_ranks):\n",
    "        return -1\n",
    "\n",
    "    sorted_card_ranks = np.sort(scoring_card_ranks)\n",
    "    \n",
    "    return np.int32(\n",
    "        (starter_card_rank << 16) |\n",
    "        (sorted_card_ranks[0] << 12) |\n",
    "        (sorted_card_ranks[1] << 8) |\n",
    "        (sorted_card_ranks[2] << 4) |\n",
    "        (sorted_card_ranks[3])\n",
    "    )\n",
    "\n",
    "scoring_rank_int_to_non_flush_score = Dict.empty(\n",
    "    key_type=types.int32,\n",
    "    value_type=types.int8,\n",
    ")\n",
    "\n",
    "@jit(nopython=True)\n",
    "def compute_non_suit_score(scoring_card_ranks, starter_card_rank):\n",
    "    # do it one longer than 13 for nice edge condition behavior\n",
    "    rank_counts = np.zeros(14, dtype=np.int8)\n",
    "    rank_counts[starter_card_rank] += 1\n",
    "    for rank in scoring_card_ranks:\n",
    "        rank_counts[rank] += 1\n",
    "\n",
    "    values = np.zeros(5, dtype=np.int8)\n",
    "    values[0] = starter_card_rank\n",
    "    values[1:] = scoring_card_ranks\n",
    "\n",
    "    total = np.int8(0)\n",
    "    total += scoring.score_fifteens(values)\n",
    "    total += scoring.score_runs(rank_counts)\n",
    "    total += scoring.score_pairs(rank_counts)\n",
    "\n",
    "    return total\n",
    "\n",
    "for rank_array_values_row in rank_array_values:\n",
    "    for starter_card_rank in np.arange(13, dtype=np.int8):\n",
    "        scoring_rank_int = get_scoring_ranks_int(rank_array_values_row, starter_card_rank)\n",
    "        if scoring_rank_int == -1:\n",
    "            continue\n",
    "        score = compute_non_suit_score(rank_array_values_row, starter_card_rank)\n",
    "        scoring_rank_int_to_non_flush_score[scoring_rank_int] = score\n"
   ]
  },
  {
   "cell_type": "code",
   "execution_count": 43,
   "id": "2da3a2e7",
   "metadata": {},
   "outputs": [
    {
     "data": {
      "text/plain": [
       "23647"
      ]
     },
     "execution_count": 43,
     "metadata": {},
     "output_type": "execute_result"
    }
   ],
   "source": [
    "len(scoring_rank_int_to_non_flush_score)"
   ]
  },
  {
   "cell_type": "code",
   "execution_count": 45,
   "id": "d8ebda60",
   "metadata": {},
   "outputs": [
    {
     "data": {
      "text/plain": [
       "13"
      ]
     },
     "execution_count": 45,
     "metadata": {},
     "output_type": "execute_result"
    }
   ],
   "source": [
    "1820 * 13 - 23647"
   ]
  },
  {
   "cell_type": "code",
   "execution_count": null,
   "id": "e120f6ec",
   "metadata": {},
   "outputs": [],
   "source": []
  }
 ],
 "metadata": {
  "kernelspec": {
   "display_name": "Python 3 (ipykernel)",
   "language": "python",
   "name": "python3"
  },
  "language_info": {
   "codemirror_mode": {
    "name": "ipython",
    "version": 3
   },
   "file_extension": ".py",
   "mimetype": "text/x-python",
   "name": "python",
   "nbconvert_exporter": "python",
   "pygments_lexer": "ipython3",
   "version": "3.10.9"
  }
 },
 "nbformat": 4,
 "nbformat_minor": 5
}
