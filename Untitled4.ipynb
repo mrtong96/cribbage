{
 "cells": [
  {
   "cell_type": "code",
   "execution_count": 1,
   "id": "8630e07b-eb2d-48dd-9c1d-ad7cee6ee62f",
   "metadata": {},
   "outputs": [
    {
     "name": "stderr",
     "output_type": "stream",
     "text": [
      "/usr/local/lib/python3.10/site-packages/numba/typed/typeddict.py:34: NumbaTypeSafetyWarning: unsafe cast from int64 to int32. Precision may be lost.\n",
      "  d[key] = value\n"
     ]
    }
   ],
   "source": [
    "import itertools\n",
    "import numpy as np\n",
    "import card\n",
    "import scoring\n",
    "\n",
    "from scoring import compute_value\n",
    "from card import get_card\n",
    "from collections import Counter\n",
    "import functools\n",
    "import time"
   ]
  },
  {
   "cell_type": "code",
   "execution_count": 8,
   "id": "b14e28d9-1d62-480c-b6dc-8adeff5546ab",
   "metadata": {},
   "outputs": [
    {
     "name": "stdout",
     "output_type": "stream",
     "text": [
      "0\n",
      "1000\n",
      "2000\n",
      "3000\n",
      "4000\n",
      "5000\n",
      "6000\n",
      "7000\n",
      "8000\n",
      "9000\n",
      "CPU times: user 8.09 s, sys: 234 ms, total: 8.32 s\n",
      "Wall time: 8.27 s\n"
     ]
    }
   ],
   "source": [
    "%%time\n",
    "\n",
    "deck = card.get_deck()\n",
    "scoring_rank_int_to_suitless_score = scoring.get_scoring_rank_int_to_suitless_score()\n",
    "\n",
    "for i in range(10000):\n",
    "    if i % 1000 == 0:\n",
    "        print(i)\n",
    "\n",
    "    sample_cards = np.random.choice(deck, size=6, replace=False)\n",
    "    \n",
    "    hand = sample_cards[:4]\n",
    "    \n",
    "    other_cards = [el for el in deck if el not in sample_cards]\n",
    "    \n",
    "    possible_starter_ranks = scoring.get_possible_starter_ranks(sample_cards)\n",
    "    possible_starter_suits = scoring.get_possible_starter_suits(sample_cards)\n",
    "    \n",
    "    for is_crib in [True, False]:\n",
    "        iterative_score = np.sum([scoring.compute_value(other_card, hand, is_crib) for other_card in other_cards])\n",
    "    \n",
    "        batch_score = scoring.compute_expected_value(\n",
    "            hand, is_crib,\n",
    "            possible_starter_ranks, possible_starter_suits,\n",
    "            scoring_rank_int_to_suitless_score)\n",
    "    \n",
    "        if iterative_score != batch_score:\n",
    "            assert False, sample_cards\n",
    "    \n"
   ]
  },
  {
   "cell_type": "code",
   "execution_count": null,
   "id": "a2da5d28-4ce4-4aab-a076-35f8d7f5cd21",
   "metadata": {},
   "outputs": [],
   "source": []
  },
  {
   "cell_type": "code",
   "execution_count": null,
   "id": "11c3c020-44da-4929-9880-1144b581e744",
   "metadata": {},
   "outputs": [],
   "source": []
  },
  {
   "cell_type": "code",
   "execution_count": 17,
   "id": "a7599e9d-f0ea-4cae-9dbe-5b0a065ab8e9",
   "metadata": {},
   "outputs": [
    {
     "data": {
      "text/plain": [
       "46"
      ]
     },
     "execution_count": 17,
     "metadata": {},
     "output_type": "execute_result"
    }
   ],
   "source": [
    "len([scoring.compute_value(card, hand, is_crib) for card in other_cards])"
   ]
  },
  {
   "cell_type": "code",
   "execution_count": 18,
   "id": "e9df6fc7-5722-4cda-b480-013bcc8df3af",
   "metadata": {},
   "outputs": [],
   "source": [
    "# Do this logic here because we reduce the number of int creations by ~50x... it's a lot\n",
    "hand_ranks = hand & 0xF\n",
    "sorted_hand_ranks = np.sort(hand_ranks)\n",
    "hand_rank_int_base = np.int32(\n",
    "    (sorted_hand_ranks[0] << 12) |\n",
    "    (sorted_hand_ranks[1] << 8) |\n",
    "    (sorted_hand_ranks[2] << 4) |\n",
    "    (sorted_hand_ranks[3])\n",
    ")"
   ]
  },
  {
   "cell_type": "code",
   "execution_count": 19,
   "id": "1953fd28-568f-41ed-a7f7-d2bafaa295e6",
   "metadata": {},
   "outputs": [],
   "source": [
    "for card in other_cards:\n",
    "    card_rank = card & 0xF\n",
    "    if scoring.compute_value(card, hand, is_crib) != scoring_rank_int_to_suitless_score[(card_rank << 16) | hand_rank_int_base]:\n",
    "        assert False, card"
   ]
  },
  {
   "cell_type": "code",
   "execution_count": 20,
   "id": "70d9a223-d1ae-417b-a585-5af6e1c226a0",
   "metadata": {},
   "outputs": [
    {
     "data": {
      "text/plain": [
       "(274, 274)"
      ]
     },
     "execution_count": 20,
     "metadata": {},
     "output_type": "execute_result"
    }
   ],
   "source": [
    "iterative_score, batch_score"
   ]
  },
  {
   "cell_type": "code",
   "execution_count": 6,
   "id": "a10d5299-8791-4d34-881b-8c94ce3e115a",
   "metadata": {},
   "outputs": [
    {
     "data": {
      "text/plain": [
       "274"
      ]
     },
     "execution_count": 6,
     "metadata": {},
     "output_type": "execute_result"
    }
   ],
   "source": [
    "scores = np.array([scoring_rank_int_to_suitless_score[(card_rank << 16) | hand_rank_int_base] for card_rank in range(13)])\n",
    "# scores2 = np.array([scoring.compute_value(card_rank + 16, hand, False) for card_rank in range(13)])\n",
    "\n",
    "# scores - scores2\n",
    "np.dot(scores, possible_starter_ranks)"
   ]
  },
  {
   "cell_type": "code",
   "execution_count": 7,
   "id": "6276fdb9-0280-4118-96f6-4dfdcaf9f482",
   "metadata": {},
   "outputs": [
    {
     "data": {
      "text/plain": [
       "18332"
      ]
     },
     "execution_count": 7,
     "metadata": {},
     "output_type": "execute_result"
    }
   ],
   "source": [
    "hand_rank_int_base"
   ]
  },
  {
   "cell_type": "code",
   "execution_count": 8,
   "id": "0f5220dc-0d72-4534-909e-0436a437cc3e",
   "metadata": {},
   "outputs": [
    {
     "data": {
      "text/plain": [
       "(8, 8)"
      ]
     },
     "execution_count": 8,
     "metadata": {},
     "output_type": "execute_result"
    }
   ],
   "source": [
    "card_rank = 12\n",
    "(\n",
    "    scoring_rank_int_to_suitless_score[(card_rank << 16) | hand_rank_int_base],\n",
    "    scoring.compute_value(card_rank + 16, hand, False)\n",
    ")"
   ]
  },
  {
   "cell_type": "code",
   "execution_count": 9,
   "id": "abf71873-fc03-41ee-9124-88d76075feb7",
   "metadata": {},
   "outputs": [
    {
     "data": {
      "text/plain": [
       "(['0x17', '0x24', '0x29', '0x3c'],\n",
       " ['0x12', '0x17', '0x24', '0x27', '0x29', '0x3c'])"
      ]
     },
     "execution_count": 9,
     "metadata": {},
     "output_type": "execute_result"
    }
   ],
   "source": [
    "# 8,5,T,K + 2\n",
    "[hex(el) for el in hand], [hex(el) for el in sorted(sample_cards)]\n"
   ]
  },
  {
   "cell_type": "code",
   "execution_count": 10,
   "id": "84329a06-4713-4c2e-aad2-417ad2f019f7",
   "metadata": {},
   "outputs": [
    {
     "data": {
      "text/plain": [
       "array([23, 36, 41, 60], dtype=int8)"
      ]
     },
     "execution_count": 10,
     "metadata": {},
     "output_type": "execute_result"
    }
   ],
   "source": [
    "hand"
   ]
  },
  {
   "cell_type": "code",
   "execution_count": 11,
   "id": "4bef0791-8425-47f4-9591-c4c31934af01",
   "metadata": {},
   "outputs": [
    {
     "ename": "AttributeError",
     "evalue": "'numpy.int8' object has no attribute 'get_value'",
     "output_type": "error",
     "traceback": [
      "\u001b[0;31m---------------------------------------------------------------------------\u001b[0m",
      "\u001b[0;31mAttributeError\u001b[0m                            Traceback (most recent call last)",
      "Cell \u001b[0;32mIn[11], line 25\u001b[0m\n\u001b[1;32m     21\u001b[0m     total \u001b[38;5;241m+\u001b[39m\u001b[38;5;241m=\u001b[39m score_pairs(rank_counts)\n\u001b[1;32m     23\u001b[0m     \u001b[38;5;28;01mreturn\u001b[39;00m total\n\u001b[0;32m---> 25\u001b[0m \u001b[43mcompute_non_suit_score\u001b[49m\u001b[43m(\u001b[49m\u001b[43mnp\u001b[49m\u001b[38;5;241;43m.\u001b[39;49m\u001b[43marray\u001b[49m\u001b[43m(\u001b[49m\u001b[43m[\u001b[49m\u001b[38;5;241;43m0x7\u001b[39;49m\u001b[43m,\u001b[49m\u001b[43m \u001b[49m\u001b[38;5;241;43m0x4\u001b[39;49m\u001b[43m,\u001b[49m\u001b[43m \u001b[49m\u001b[38;5;241;43m0x9\u001b[39;49m\u001b[43m,\u001b[49m\u001b[43m \u001b[49m\u001b[38;5;241;43m0xc\u001b[39;49m\u001b[43m]\u001b[49m\u001b[43m)\u001b[49m\u001b[43m,\u001b[49m\u001b[43m \u001b[49m\u001b[38;5;241;43m0x1\u001b[39;49m\u001b[43m)\u001b[49m\n",
      "Cell \u001b[0;32mIn[11], line 15\u001b[0m, in \u001b[0;36mcompute_non_suit_score\u001b[0;34m(scoring_card_ranks, starter_card_rank)\u001b[0m\n\u001b[1;32m     13\u001b[0m values \u001b[38;5;241m=\u001b[39m np\u001b[38;5;241m.\u001b[39mzeros(\u001b[38;5;241m5\u001b[39m, dtype\u001b[38;5;241m=\u001b[39mnp\u001b[38;5;241m.\u001b[39mint8)\n\u001b[1;32m     14\u001b[0m \u001b[38;5;28;01mfor\u001b[39;00m i, scoring_card_rank \u001b[38;5;129;01min\u001b[39;00m \u001b[38;5;28menumerate\u001b[39m(scoring_card_ranks):\n\u001b[0;32m---> 15\u001b[0m     values[i] \u001b[38;5;241m=\u001b[39m \u001b[43mcard\u001b[49m\u001b[38;5;241;43m.\u001b[39;49m\u001b[43mget_value\u001b[49m(scoring_card_rank)\n\u001b[1;32m     16\u001b[0m values[\u001b[38;5;241m4\u001b[39m] \u001b[38;5;241m=\u001b[39m card\u001b[38;5;241m.\u001b[39mget_value(starter_card_rank)\n\u001b[1;32m     18\u001b[0m total \u001b[38;5;241m=\u001b[39m SCORE_DTYPE(\u001b[38;5;241m0\u001b[39m)\n",
      "\u001b[0;31mAttributeError\u001b[0m: 'numpy.int8' object has no attribute 'get_value'"
     ]
    }
   ],
   "source": [
    "SCORE_DTYPE = scoring.SCORE_DTYPE\n",
    "score_fifteens = scoring.score_fifteens\n",
    "score_runs = scoring.score_runs\n",
    "score_pairs = scoring.score_pairs\n",
    "\n",
    "def compute_non_suit_score(scoring_card_ranks, starter_card_rank):\n",
    "    # do it one longer than 13 for nice edge condition behavior\n",
    "    rank_counts = np.zeros(14, dtype=np.int8)\n",
    "    rank_counts[starter_card_rank] += 1\n",
    "    for rank in scoring_card_ranks:\n",
    "        rank_counts[rank] += 1\n",
    "\n",
    "    values = np.zeros(5, dtype=np.int8)\n",
    "    for i, scoring_card_rank in enumerate(scoring_card_ranks):\n",
    "        values[i] = card.get_value(scoring_card_rank)\n",
    "    values[4] = card.get_value(starter_card_rank)\n",
    "\n",
    "    total = SCORE_DTYPE(0)\n",
    "    total += score_fifteens(values)\n",
    "    total += score_runs(rank_counts)\n",
    "    total += score_pairs(rank_counts)\n",
    "\n",
    "    return total\n",
    "\n",
    "compute_non_suit_score(np.array([0x7, 0x4, 0x9, 0xc]), 0x1)"
   ]
  },
  {
   "cell_type": "code",
   "execution_count": null,
   "id": "29534e78-6dd6-49be-9005-028891245a62",
   "metadata": {},
   "outputs": [],
   "source": []
  },
  {
   "cell_type": "code",
   "execution_count": null,
   "id": "bd365ea7-a577-45c0-9328-06ae5738bc93",
   "metadata": {},
   "outputs": [],
   "source": []
  },
  {
   "cell_type": "code",
   "execution_count": null,
   "id": "4ed39a30-a0df-483c-90d9-477636a89266",
   "metadata": {},
   "outputs": [],
   "source": [
    "%%time\n",
    "\n",
    "deck = card.get_deck()\n",
    "scoring_rank_int_to_suitless_score = scoring.get_scoring_rank_int_to_suitless_score()\n",
    "\n",
    "for i in range(1000):\n",
    "    sample_cards = np.random.choice(deck, size=6, replace=False)\n",
    "    hand = sample_cards[:4]\n",
    "    \n",
    "    other_cards = [card for card in deck if deck not in sample_cards]\n",
    "\n",
    "    possible_starter_ranks = scoring.get_possible_starter_ranks(sample_cards)\n",
    "    possible_starter_suits = scoring.get_possible_starter_suits(sample_cards)\n",
    "    \n",
    "    for is_crib in [True, False]:\n",
    "        iterative_score = np.sum([scoring.compute_value(card, hand, is_crib) for card in other_cards])\n",
    "\n",
    "        batch_score = scoring.compute_expected_value(\n",
    "            hand, is_crib,\n",
    "            possible_starter_ranks, possible_starter_suits,\n",
    "            scoring_rank_int_to_suitless_score)\n",
    "\n",
    "        assert False, (batch_score, iterative_score)\n",
    "\n"
   ]
  },
  {
   "cell_type": "code",
   "execution_count": null,
   "id": "c5657fb5-dd96-49c5-857d-a38a9114621b",
   "metadata": {},
   "outputs": [],
   "source": []
  }
 ],
 "metadata": {
  "kernelspec": {
   "display_name": "Python 3 (ipykernel)",
   "language": "python",
   "name": "python3"
  },
  "language_info": {
   "codemirror_mode": {
    "name": "ipython",
    "version": 3
   },
   "file_extension": ".py",
   "mimetype": "text/x-python",
   "name": "python",
   "nbconvert_exporter": "python",
   "pygments_lexer": "ipython3",
   "version": "3.10.9"
  }
 },
 "nbformat": 4,
 "nbformat_minor": 5
}
